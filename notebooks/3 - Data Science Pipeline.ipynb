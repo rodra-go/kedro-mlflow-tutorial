{
 "cells": [
  {
   "cell_type": "markdown",
   "id": "early-general",
   "metadata": {},
   "source": [
    "# 1. Creating the Training Node"
   ]
  },
  {
   "cell_type": "code",
   "execution_count": 1,
   "id": "plain-democracy",
   "metadata": {},
   "outputs": [
    {
     "name": "stderr",
     "output_type": "stream",
     "text": [
      "/home/user01/.local/lib/python3.8/site-packages/ipykernel/ipkernel.py:283: DeprecationWarning: `should_run_async` will not call `transform_cell` automatically in the future. Please pass the result to `transformed_cell` argument and any exception that happen during thetransform in `preprocessing_exc_tuple` in IPython 7.17 and above.\n",
      "  and should_run_async(code)\n"
     ]
    }
   ],
   "source": [
    "import time\n",
    "import pandas as pd\n",
    "import scipy as sci\n",
    "from typing import Tuple, Dict, Any\n",
    "from sklearn import svm\n",
    "from sklearn.preprocessing._data import StandardScaler\n",
    "\n",
    "\n",
    "def train(\n",
    "        X: pd.DataFrame,\n",
    "        Y: pd.DataFrame,\n",
    "        kernel: str,\n",
    "        gamma: str,\n",
    "    ) -> Tuple[svm._classes.SVR,Dict]:\n",
    "\n",
    "    # Initializing hyperparameters\n",
    "    response_scale = sci.stats.iqr(Y)\n",
    "    box_constraint = response_scale/1.349\n",
    "    epsilon = 2*response_scale/13.49\n",
    "    \n",
    "    # Initializing the model\n",
    "    model = svm.SVR(\n",
    "        kernel = kernel,\n",
    "        C = box_constraint,\n",
    "        gamma = gamma,\n",
    "        epsilon = epsilon\n",
    "    )\n",
    "\n",
    "    # Training the model\n",
    "    time_start = time.time()\n",
    "    model.fit(X.drop('partition_key', axis=1), Y)\n",
    "    time_end = time.time()\n",
    "\n",
    "    # Elapsed time in seconds for tp_x\n",
    "    elapsed_time = time_end - time_start\n",
    "\n",
    "    metrics = {\n",
    "        \"training_elapsed_time\": {\n",
    "            \"value\": float(elapsed_time),\n",
    "             \"step\": 1\n",
    "         },\n",
    "    }\n",
    "\n",
    "    return model, metrics"
   ]
  },
  {
   "cell_type": "code",
   "execution_count": 2,
   "id": "infrared-algorithm",
   "metadata": {},
   "outputs": [
    {
     "name": "stdout",
     "output_type": "stream",
     "text": [
      "2021-02-24 18:52:35,865 - kedro.io.data_catalog - INFO - Loading data from `x_train` (CSVDataSet)...\n",
      "2021-02-24 18:52:35,880 - kedro.io.data_catalog - INFO - Loading data from `y_train` (CSVDataSet)...\n",
      "2021-02-24 18:52:35,889 - kedro.io.data_catalog - INFO - Loading data from `params:regressor.hyperp.kernel` (MemoryDataSet)...\n",
      "2021-02-24 18:52:35,892 - kedro.io.data_catalog - INFO - Loading data from `params:regressor.hyperp.gamma` (MemoryDataSet)...\n"
     ]
    },
    {
     "name": "stderr",
     "output_type": "stream",
     "text": [
      "/home/user01/.local/lib/python3.8/site-packages/sklearn/utils/validation.py:63: DataConversionWarning: A column-vector y was passed when a 1d array was expected. Please change the shape of y to (n_samples, ), for example using ravel().\n",
      "  return f(*args, **kwargs)\n"
     ]
    },
    {
     "data": {
      "text/plain": [
       "{'training_elapsed_time': {'value': 0.014623880386352539, 'step': 1}}"
      ]
     },
     "execution_count": 2,
     "metadata": {},
     "output_type": "execute_result"
    }
   ],
   "source": [
    "model, train_metrics = train(\n",
    "    X = catalog.load(\"x_train\"),\n",
    "    Y = catalog.load(\"y_train\"),\n",
    "    kernel = catalog.load(\"params:regressor.hyperp.kernel\"),\n",
    "    gamma = catalog.load(\"params:regressor.hyperp.gamma\"),\n",
    ")\n",
    "\n",
    "train_metrics"
   ]
  },
  {
   "cell_type": "markdown",
   "id": "crude-overhead",
   "metadata": {},
   "source": [
    "# 2. Creating the Testing Node"
   ]
  },
  {
   "cell_type": "code",
   "execution_count": 3,
   "id": "romantic-shower",
   "metadata": {},
   "outputs": [
    {
     "name": "stderr",
     "output_type": "stream",
     "text": [
      "/home/user01/.local/lib/python3.8/site-packages/ipykernel/ipkernel.py:283: DeprecationWarning: `should_run_async` will not call `transform_cell` automatically in the future. Please pass the result to `transformed_cell` argument and any exception that happen during thetransform in `preprocessing_exc_tuple` in IPython 7.17 and above.\n",
      "  and should_run_async(code)\n"
     ]
    }
   ],
   "source": [
    "from sklearn.metrics import mean_squared_error\n",
    "\n",
    "\n",
    "def test(\n",
    "        model: svm._classes.SVR,\n",
    "        X_scaler: StandardScaler,\n",
    "        Y_scaler: StandardScaler,\n",
    "        X_test: pd.DataFrame,\n",
    "        Y_test: pd.DataFrame,\n",
    "    ) -> Dict[str, Dict[str, Any]]:\n",
    "\n",
    "    # Removing partition key from the data frame\n",
    "    X_test.drop('partition_key', axis=1, inplace=True)\n",
    "\n",
    "    # Generate predictions\n",
    "    Y_pred = model.predict(X_test)\n",
    "    \n",
    "    # Inverse transform the data with the scaler\n",
    "    X_test_inversed = X_scaler.inverse_transform(X_test)\n",
    "    Y_test_inversed = Y_scaler.inverse_transform(Y_test)\n",
    "    Y_pred_inversed = Y_scaler.inverse_transform(Y_pred)\n",
    "\n",
    "    rmse = mean_squared_error(\n",
    "        y_true = Y_test_inversed,\n",
    "        y_pred = Y_pred_inversed\n",
    "    )\n",
    "    \n",
    "    return {\n",
    "        \"rmse\": {\"value\": float(rmse), \"step\": 1},\n",
    "    }"
   ]
  },
  {
   "cell_type": "code",
   "execution_count": 4,
   "id": "annoying-loading",
   "metadata": {},
   "outputs": [
    {
     "name": "stdout",
     "output_type": "stream",
     "text": [
      "2021-02-24 18:52:35,966 - kedro.io.data_catalog - INFO - Loading data from `x_scaler` (MlflowMlflowModelSaverDataSet)...\n",
      "2021-02-24 18:52:35,975 - kedro.io.data_catalog - INFO - Loading data from `y_scaler` (MlflowMlflowModelSaverDataSet)...\n",
      "2021-02-24 18:52:35,982 - kedro.io.data_catalog - INFO - Loading data from `x_test` (CSVDataSet)...\n",
      "2021-02-24 18:52:35,995 - kedro.io.data_catalog - INFO - Loading data from `y_test` (CSVDataSet)...\n"
     ]
    },
    {
     "data": {
      "text/plain": [
       "{'rmse': {'value': 47.063334844394234, 'step': 1}}"
      ]
     },
     "execution_count": 4,
     "metadata": {},
     "output_type": "execute_result"
    }
   ],
   "source": [
    "test_metrics = test(\n",
    "    model = model,\n",
    "    X_scaler = catalog.load(\"x_scaler\"),\n",
    "    Y_scaler = catalog.load(\"y_scaler\"),\n",
    "    X_test = catalog.load(\"x_test\"),\n",
    "    Y_test = catalog.load(\"y_test\"),\n",
    ")\n",
    "\n",
    "test_metrics"
   ]
  },
  {
   "cell_type": "markdown",
   "id": "portable-latex",
   "metadata": {},
   "source": [
    "# 3. Next steps\n",
    "\n",
    "- 1. Update **nodes.py** file for data science pipeline\n",
    "- 2. Update **pipeline.py** file for data science pipeline\n",
    "- 3. Update **hooks.py** file\n",
    "- 4. Update **conf/base/catalog.yml** file\n",
    "- 5. **Commit code to repo**"
   ]
  }
 ],
 "metadata": {
  "kernelspec": {
   "display_name": "KedroMLFlowTutorial",
   "language": "python",
   "name": "python3"
  },
  "language_info": {
   "codemirror_mode": {
    "name": "ipython",
    "version": 3
   },
   "file_extension": ".py",
   "mimetype": "text/x-python",
   "name": "python",
   "nbconvert_exporter": "python",
   "pygments_lexer": "ipython3",
   "version": "3.8.5"
  }
 },
 "nbformat": 4,
 "nbformat_minor": 5
}
