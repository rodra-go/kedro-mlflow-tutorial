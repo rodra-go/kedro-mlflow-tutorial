{
 "cells": [
  {
   "cell_type": "markdown",
   "id": "personalized-excess",
   "metadata": {},
   "source": [
    "# 1. Loading necessary variables"
   ]
  },
  {
   "cell_type": "code",
   "execution_count": 27,
   "id": "impressive-humanity",
   "metadata": {},
   "outputs": [
    {
     "name": "stdout",
     "output_type": "stream",
     "text": [
      "2021-02-23 20:27:10,742 - kedro.io.data_catalog - INFO - Loading data from `params:project_path` (MemoryDataSet)...\n",
      "2021-02-23 20:27:10,750 - kedro.io.data_catalog - INFO - Loading data from `params:tpn.server_ip` (MemoryDataSet)...\n",
      "2021-02-23 20:27:10,752 - kedro.io.data_catalog - INFO - Loading data from `params:tpn.domain_name` (MemoryDataSet)...\n",
      "2021-02-23 20:27:10,754 - kedro.io.data_catalog - INFO - Loading data from `params:tpn.shared_folder` (MemoryDataSet)...\n",
      "2021-02-23 20:27:10,756 - kedro.io.data_catalog - INFO - Loading data from `params:sgs.base_path` (MemoryDataSet)...\n"
     ]
    },
    {
     "name": "stderr",
     "output_type": "stream",
     "text": [
      "/home/user01/.local/lib/python3.8/site-packages/ipykernel/ipkernel.py:283: DeprecationWarning: `should_run_async` will not call `transform_cell` automatically in the future. Please pass the result to `transformed_cell` argument and any exception that happen during thetransform in `preprocessing_exc_tuple` in IPython 7.17 and above.\n",
      "  and should_run_async(code)\n"
     ]
    }
   ],
   "source": [
    "project_path = catalog.load('params:project_path') # Project root path\n",
    "server_ip = catalog.load('params:tpn.server_ip') # IP Address for TPN File Server\n",
    "domain_name = catalog.load('params:tpn.domain_name') # Domain Name for TPN File Server\n",
    "shared_folder = catalog.load('params:tpn.shared_folder') # TPN File Server shared folder\n",
    "sgs_base_path = catalog.load('params:sgs.base_path') # SGS base path on TPN File Server"
   ]
  },
  {
   "cell_type": "markdown",
   "id": "aerial-piece",
   "metadata": {},
   "source": [
    "# 2. Credentials loading Node"
   ]
  },
  {
   "cell_type": "code",
   "execution_count": 25,
   "id": "tutorial-newspaper",
   "metadata": {},
   "outputs": [
    {
     "name": "stdout",
     "output_type": "stream",
     "text": [
      "dict_keys(['username', 'password'])\n"
     ]
    }
   ],
   "source": [
    "import os\n",
    "from typing import Dict\n",
    "from kedro.config import ConfigLoader\n",
    "\n",
    "def get_credentials(project_path: str) -> Dict:\n",
    "    conf_paths = [\n",
    "        os.path.join(project_path,\"conf/base\"),\n",
    "        os.path.join(project_path, \"conf/local\")\n",
    "    ]\n",
    "    conf_loader = ConfigLoader(conf_paths)\n",
    "    credentials = conf_loader.get(\"credentials*\",\n",
    "                                  \"credentials*/**\")\n",
    "\n",
    "    return credentials\n",
    "\n",
    "\n",
    "credentials = get_credentials(project_path)\n",
    "print(credentials['tpn'].keys())"
   ]
  },
  {
   "cell_type": "markdown",
   "id": "twelve-secretariat",
   "metadata": {},
   "source": [
    "# 3. Retrieve Sample Data"
   ]
  },
  {
   "cell_type": "code",
   "execution_count": 26,
   "id": "dominant-exclusion",
   "metadata": {},
   "outputs": [
    {
     "name": "stdout",
     "output_type": "stream",
     "text": [
      "2021-02-23 20:26:54,373 - SMB.SMBConnection - INFO - Authentication with remote machine \"//10.1.1.52/\" for user \"rodrigo_cunha\" will be using NTLM v2 authentication (with extended security)\n",
      "2021-02-23 20:26:54,465 - SMB.SMBConnection - INFO - Now switching over to SMB2 protocol communication\n",
      "2021-02-23 20:26:54,467 - SMB.SMBConnection - INFO - SMB2 dialect negotiation successful\n",
      "2021-02-23 20:26:54,535 - SMB.SMBConnection - INFO - Performing NTLMv2 authentication (on SMB2) with server challenge \"b'fcd198f09e53fe82'\"\n",
      "2021-02-23 20:26:54,536 - SMB.SMBConnection - INFO - Performing NTLMv2 authentication (on SMB2) with server challenge \"b'fcd198f09e53fe82'\"\n",
      "2021-02-23 20:26:54,539 - SMB.SMBConnection - INFO - Server supports SMB signing\n",
      "2021-02-23 20:26:54,541 - SMB.SMBConnection - INFO - SMB signing deactivated. SMB messages will NOT be signed.\n",
      "2021-02-23 20:26:54,637 - SMB.SMBConnection - INFO - Authentication (on SMB2) successful!\n"
     ]
    },
    {
     "name": "stderr",
     "output_type": "stream",
     "text": [
      "/home/user01/.local/lib/python3.8/site-packages/h5py/_hl/dataset.py:767: DeprecationWarning: Passing None into shape arguments as an alias for () is deprecated.\n",
      "  arr = numpy.ndarray(selection.mshape, dtype=new_dtype)\n"
     ]
    },
    {
     "data": {
      "text/html": [
       "<div>\n",
       "<style scoped>\n",
       "    .dataframe tbody tr th:only-of-type {\n",
       "        vertical-align: middle;\n",
       "    }\n",
       "\n",
       "    .dataframe tbody tr th {\n",
       "        vertical-align: top;\n",
       "    }\n",
       "\n",
       "    .dataframe thead th {\n",
       "        text-align: right;\n",
       "    }\n",
       "</style>\n",
       "<table border=\"1\" class=\"dataframe\">\n",
       "  <thead>\n",
       "    <tr style=\"text-align: right;\">\n",
       "      <th></th>\n",
       "      <th>x</th>\n",
       "      <th>y</th>\n",
       "      <th>z</th>\n",
       "      <th>xx</th>\n",
       "      <th>yy</th>\n",
       "      <th>zz</th>\n",
       "      <th>speed_x</th>\n",
       "      <th>speed_y</th>\n",
       "      <th>speed_z</th>\n",
       "      <th>speed_xx</th>\n",
       "      <th>...</th>\n",
       "      <th>rupture_time</th>\n",
       "      <th>session_id</th>\n",
       "      <th>swell_dir</th>\n",
       "      <th>swell_hs</th>\n",
       "      <th>swell_tp</th>\n",
       "      <th>wave_dir</th>\n",
       "      <th>wave_hs</th>\n",
       "      <th>wave_tp</th>\n",
       "      <th>win_dir</th>\n",
       "      <th>wind_speed</th>\n",
       "    </tr>\n",
       "  </thead>\n",
       "  <tbody>\n",
       "    <tr>\n",
       "      <th>0</th>\n",
       "      <td>-0.300000</td>\n",
       "      <td>15.700000</td>\n",
       "      <td>-16.000000</td>\n",
       "      <td>0.000000</td>\n",
       "      <td>0.000000</td>\n",
       "      <td>244.500000</td>\n",
       "      <td>0.000000</td>\n",
       "      <td>0.000000</td>\n",
       "      <td>0.000000</td>\n",
       "      <td>0.000000</td>\n",
       "      <td>...</td>\n",
       "      <td>0.0</td>\n",
       "      <td>22</td>\n",
       "      <td>108.0</td>\n",
       "      <td>0.98</td>\n",
       "      <td>4.99</td>\n",
       "      <td>201.2</td>\n",
       "      <td>3.13</td>\n",
       "      <td>15.15</td>\n",
       "      <td>100.3</td>\n",
       "      <td>6.48</td>\n",
       "    </tr>\n",
       "    <tr>\n",
       "      <th>1</th>\n",
       "      <td>-0.312367</td>\n",
       "      <td>15.705600</td>\n",
       "      <td>-16.015366</td>\n",
       "      <td>-0.059015</td>\n",
       "      <td>0.018654</td>\n",
       "      <td>244.501190</td>\n",
       "      <td>0.010677</td>\n",
       "      <td>0.003775</td>\n",
       "      <td>-0.030110</td>\n",
       "      <td>-0.115982</td>\n",
       "      <td>...</td>\n",
       "      <td>0.0</td>\n",
       "      <td>22</td>\n",
       "      <td>108.0</td>\n",
       "      <td>0.98</td>\n",
       "      <td>4.99</td>\n",
       "      <td>201.2</td>\n",
       "      <td>3.13</td>\n",
       "      <td>15.15</td>\n",
       "      <td>100.3</td>\n",
       "      <td>6.48</td>\n",
       "    </tr>\n",
       "    <tr>\n",
       "      <th>2</th>\n",
       "      <td>-0.355629</td>\n",
       "      <td>15.723564</td>\n",
       "      <td>-16.058661</td>\n",
       "      <td>-0.226357</td>\n",
       "      <td>0.061959</td>\n",
       "      <td>244.509781</td>\n",
       "      <td>0.017714</td>\n",
       "      <td>-0.004206</td>\n",
       "      <td>-0.055346</td>\n",
       "      <td>-0.213925</td>\n",
       "      <td>...</td>\n",
       "      <td>0.0</td>\n",
       "      <td>22</td>\n",
       "      <td>108.0</td>\n",
       "      <td>0.98</td>\n",
       "      <td>4.99</td>\n",
       "      <td>201.2</td>\n",
       "      <td>3.13</td>\n",
       "      <td>15.15</td>\n",
       "      <td>100.3</td>\n",
       "      <td>6.48</td>\n",
       "    </tr>\n",
       "    <tr>\n",
       "      <th>3</th>\n",
       "      <td>-0.425700</td>\n",
       "      <td>15.748679</td>\n",
       "      <td>-16.123413</td>\n",
       "      <td>-0.473367</td>\n",
       "      <td>0.102663</td>\n",
       "      <td>244.521118</td>\n",
       "      <td>0.019346</td>\n",
       "      <td>-0.003715</td>\n",
       "      <td>-0.072912</td>\n",
       "      <td>-0.271486</td>\n",
       "      <td>...</td>\n",
       "      <td>0.0</td>\n",
       "      <td>22</td>\n",
       "      <td>108.0</td>\n",
       "      <td>0.98</td>\n",
       "      <td>4.99</td>\n",
       "      <td>201.2</td>\n",
       "      <td>3.13</td>\n",
       "      <td>15.15</td>\n",
       "      <td>100.3</td>\n",
       "      <td>6.48</td>\n",
       "    </tr>\n",
       "    <tr>\n",
       "      <th>4</th>\n",
       "      <td>-0.498472</td>\n",
       "      <td>15.766123</td>\n",
       "      <td>-16.198757</td>\n",
       "      <td>-0.747915</td>\n",
       "      <td>0.114695</td>\n",
       "      <td>244.519836</td>\n",
       "      <td>0.018630</td>\n",
       "      <td>0.011545</td>\n",
       "      <td>-0.075985</td>\n",
       "      <td>-0.267755</td>\n",
       "      <td>...</td>\n",
       "      <td>0.0</td>\n",
       "      <td>22</td>\n",
       "      <td>108.0</td>\n",
       "      <td>0.98</td>\n",
       "      <td>4.99</td>\n",
       "      <td>201.2</td>\n",
       "      <td>3.13</td>\n",
       "      <td>15.15</td>\n",
       "      <td>100.3</td>\n",
       "      <td>6.48</td>\n",
       "    </tr>\n",
       "  </tbody>\n",
       "</table>\n",
       "<p>5 rows × 31 columns</p>\n",
       "</div>"
      ],
      "text/plain": [
       "          x          y          z        xx        yy          zz   speed_x  \\\n",
       "0 -0.300000  15.700000 -16.000000  0.000000  0.000000  244.500000  0.000000   \n",
       "1 -0.312367  15.705600 -16.015366 -0.059015  0.018654  244.501190  0.010677   \n",
       "2 -0.355629  15.723564 -16.058661 -0.226357  0.061959  244.509781  0.017714   \n",
       "3 -0.425700  15.748679 -16.123413 -0.473367  0.102663  244.521118  0.019346   \n",
       "4 -0.498472  15.766123 -16.198757 -0.747915  0.114695  244.519836  0.018630   \n",
       "\n",
       "    speed_y   speed_z  speed_xx  ...  rupture_time  session_id  swell_dir  \\\n",
       "0  0.000000  0.000000  0.000000  ...           0.0          22      108.0   \n",
       "1  0.003775 -0.030110 -0.115982  ...           0.0          22      108.0   \n",
       "2 -0.004206 -0.055346 -0.213925  ...           0.0          22      108.0   \n",
       "3 -0.003715 -0.072912 -0.271486  ...           0.0          22      108.0   \n",
       "4  0.011545 -0.075985 -0.267755  ...           0.0          22      108.0   \n",
       "\n",
       "   swell_hs  swell_tp  wave_dir  wave_hs  wave_tp  win_dir  wind_speed  \n",
       "0      0.98      4.99     201.2     3.13    15.15    100.3        6.48  \n",
       "1      0.98      4.99     201.2     3.13    15.15    100.3        6.48  \n",
       "2      0.98      4.99     201.2     3.13    15.15    100.3        6.48  \n",
       "3      0.98      4.99     201.2     3.13    15.15    100.3        6.48  \n",
       "4      0.98      4.99     201.2     3.13    15.15    100.3        6.48  \n",
       "\n",
       "[5 rows x 31 columns]"
      ]
     },
     "execution_count": 26,
     "metadata": {},
     "output_type": "execute_result"
    }
   ],
   "source": [
    "# Importing class to retrievee data from TPN File Server.\n",
    "from kedro_mlflow_tutorial.utils.tpn import TPNFileServer\n",
    "\n",
    "tpn_client = TPNFileServer(\n",
    "    credentials['tpn']['username'],\n",
    "    credentials['tpn']['password'],\n",
    "    server_ip,\n",
    "    domain_name,\n",
    "    shared_folder,\n",
    "    sgs_base_path\n",
    ")\n",
    "\n",
    "session_id = 22 # SGS session ID\n",
    "env_condition_id = 456 # SGS environmental condition ID\n",
    "\n",
    "sgs_data = tpn_client.retrieveSGSData(\n",
    "    session_id = session_id, \n",
    "    env_cond_id = env_condition_id\n",
    ")\n",
    "\n",
    "sgs_data.head()"
   ]
  },
  {
   "cell_type": "markdown",
   "id": "weighted-dublin",
   "metadata": {},
   "source": [
    "# 4. Create the download Node\n",
    "\n",
    "Node specifications:\n",
    "\n",
    "- Automate the data downloading from SGS\n",
    "- Define SGS session and environmental condition IDs as parameters"
   ]
  },
  {
   "cell_type": "code",
   "execution_count": 5,
   "id": "daily-monitor",
   "metadata": {},
   "outputs": [],
   "source": [
    "import os\n",
    "from typing import Dict, List, Iterable\n",
    "from kedro_mlflow_tutorial.utils.tpn import TPNFileServer\n",
    "from kedro.config import ConfigLoader\n",
    "\n",
    "\n",
    "def download_sgs_data(credentials: Dict,\n",
    "                     sgs_params: Dict,\n",
    "                     tpn_params: Dict,\n",
    "                     project_path: str,\n",
    "                ) -> Dict:\n",
    "\n",
    "    sgs_base_path = sgs_params['base_path']\n",
    "    session_ids = sgs_params['download']['session_ids']\n",
    "    env_condition_ids = sgs_params['download']['env_cond']['ids']\n",
    "    mode = sgs_params['download']['mode']\n",
    "    download_dir = sgs_params['download']['dir']\n",
    "    file_only = sgs_params['download']['file_only']\n",
    "    start_env_id = sgs_params['download']['env_cond']['start_id']\n",
    "    end_env_id = sgs_params['download']['env_cond']['end_id']\n",
    "    env_step = sgs_params['download']['env_cond']['step']\n",
    "\n",
    "    server_ip = tpn_params['server_ip']\n",
    "    domain_name = tpn_params['domain_name']\n",
    "    shared_folder = tpn_params['shared_folder']\n",
    "\n",
    "\n",
    "    iterable = define_download_data(\n",
    "        session_ids = session_ids,\n",
    "        env_ids = env_condition_ids,\n",
    "        mode = mode,\n",
    "        start_env_id = start_env_id,\n",
    "        end_env_id = end_env_id,\n",
    "        env_step = env_step,\n",
    "    )\n",
    "\n",
    "    data = {}\n",
    "    for session_id, env_id in iterable:\n",
    "        df, filename = download_sgs_file(\n",
    "            session_id = session_id,\n",
    "            env_condition_id = env_id,\n",
    "            username = credentials['tpn']['username'],\n",
    "            password = credentials['tpn']['password'],\n",
    "            server_ip = server_ip,\n",
    "            domain_name = domain_name,\n",
    "            shared_folder = shared_folder,\n",
    "            sgs_base_path = sgs_base_path,\n",
    "            project_path = project_path,\n",
    "            download_dir = download_dir\n",
    "        )\n",
    "        data[filename] = df\n",
    "\n",
    "    return data\n",
    "\n",
    "\n",
    "def define_download_data(\n",
    "        session_ids: List[int],\n",
    "        env_ids: List[int] = None,\n",
    "        mode: str = 'std',\n",
    "        start_env_id: int = None,\n",
    "        end_env_id: int = None,\n",
    "        env_step: int = None,\n",
    "    ) -> Iterable:\n",
    "    '''\n",
    "    Returns an list of tuples (i,j) with i corresponding to the SGS session ID\n",
    "    and j to the environment condition ID\n",
    "\n",
    "    Parameters:\n",
    "\n",
    "    Returns:\n",
    "\n",
    "    '''\n",
    "\n",
    "    iterable = []\n",
    "    if mode == 'std' and env_ids:\n",
    "        iterable = [(i,j) for i in session_ids\n",
    "                            for j in env_id]\n",
    "\n",
    "    elif (mode == 'sparse'\n",
    "          and start_env_id is not None\n",
    "          and end_env_id is not None\n",
    "          and env_step is not None):\n",
    "        iterable = [(i,j) for i in session_ids\n",
    "                            for j in range(start_env_id,end_env_id,env_step)]\n",
    "\n",
    "    return iterable\n",
    "\n",
    "\n",
    "def download_sgs_file(session_id: int,\n",
    "                    env_condition_id: int,\n",
    "                    username: str,\n",
    "                    password: str,\n",
    "                    server_ip: str,\n",
    "                    domain_name: str,\n",
    "                    shared_folder: str,\n",
    "                    sgs_base_path: str,\n",
    "                    project_path: str,\n",
    "                    download_dir: str = 'data/01_raw/sgs',\n",
    "                    file_only: bool = True) -> str:\n",
    "\n",
    "    tpn_client = TPNFileServer(\n",
    "        username,\n",
    "        password,\n",
    "        server_ip,\n",
    "        domain_name,\n",
    "        shared_folder,\n",
    "        sgs_base_path\n",
    "    )\n",
    "\n",
    "    if file_only:\n",
    "        data_dir = download_dir\n",
    "    else:\n",
    "        data_dir = os.path.join(download_dir,'/{}/{}'.format(\n",
    "                        session_id,\n",
    "                        str(env_condition_id).zfill(4)\n",
    "                    ))\n",
    "\n",
    "    output_dir = os.path.join(\n",
    "        project_path,\n",
    "        data_dir\n",
    "    )\n",
    "\n",
    "    return tpn_client.downloadSGSDataAsDataFrame(\n",
    "        session_id = session_id,\n",
    "        env_cond_id = env_condition_id,\n",
    "        output_dir = output_dir,\n",
    "        file_only = file_only,\n",
    "    )\n"
   ]
  },
  {
   "cell_type": "code",
   "execution_count": 6,
   "id": "aggregate-biology",
   "metadata": {},
   "outputs": [
    {
     "name": "stdout",
     "output_type": "stream",
     "text": [
      "2021-02-23 20:09:58,778 - kedro.io.data_catalog - INFO - Loading data from `params:sgs` (MemoryDataSet)...\n",
      "2021-02-23 20:09:58,780 - kedro.io.data_catalog - INFO - Loading data from `params:tpn` (MemoryDataSet)...\n",
      "2021-02-23 20:09:58,791 - kedro.io.data_catalog - INFO - Loading data from `params:project_path` (MemoryDataSet)...\n"
     ]
    },
    {
     "name": "stderr",
     "output_type": "stream",
     "text": [
      "\r",
      "  0%|          | 0/100 [00:00<?, ?it/s]"
     ]
    },
    {
     "name": "stdout",
     "output_type": "stream",
     "text": [
      "2021-02-23 20:09:58,827 - SMB.SMBConnection - INFO - Authentication with remote machine \"//10.1.1.52/\" for user \"rodrigo_cunha\" will be using NTLM v2 authentication (with extended security)\n",
      "2021-02-23 20:09:58,923 - SMB.SMBConnection - INFO - Now switching over to SMB2 protocol communication\n",
      "2021-02-23 20:09:58,924 - SMB.SMBConnection - INFO - SMB2 dialect negotiation successful\n",
      "2021-02-23 20:09:58,986 - SMB.SMBConnection - INFO - Performing NTLMv2 authentication (on SMB2) with server challenge \"b'c29e253d4352540b'\"\n",
      "2021-02-23 20:09:58,987 - SMB.SMBConnection - INFO - Performing NTLMv2 authentication (on SMB2) with server challenge \"b'c29e253d4352540b'\"\n",
      "2021-02-23 20:09:58,990 - SMB.SMBConnection - INFO - Server supports SMB signing\n",
      "2021-02-23 20:09:58,991 - SMB.SMBConnection - INFO - SMB signing deactivated. SMB messages will NOT be signed.\n",
      "2021-02-23 20:09:59,068 - SMB.SMBConnection - INFO - Authentication (on SMB2) successful!\n"
     ]
    },
    {
     "name": "stderr",
     "output_type": "stream",
     "text": [
      "/home/user01/.local/lib/python3.8/site-packages/h5py/_hl/dataset.py:767: DeprecationWarning: Passing None into shape arguments as an alias for () is deprecated.\n",
      "  arr = numpy.ndarray(selection.mshape, dtype=new_dtype)\n",
      "\r",
      "  1%|          | 1/100 [00:01<01:52,  1.14s/it]"
     ]
    },
    {
     "name": "stdout",
     "output_type": "stream",
     "text": [
      "2021-02-23 20:09:59,963 - SMB.SMBConnection - INFO - Authentication with remote machine \"//10.1.1.52/\" for user \"rodrigo_cunha\" will be using NTLM v2 authentication (with extended security)\n",
      "2021-02-23 20:10:00,065 - SMB.SMBConnection - INFO - Now switching over to SMB2 protocol communication\n",
      "2021-02-23 20:10:00,067 - SMB.SMBConnection - INFO - SMB2 dialect negotiation successful\n",
      "2021-02-23 20:10:00,153 - SMB.SMBConnection - INFO - Performing NTLMv2 authentication (on SMB2) with server challenge \"b'6c8df0c69b97f4f1'\"\n",
      "2021-02-23 20:10:00,155 - SMB.SMBConnection - INFO - Performing NTLMv2 authentication (on SMB2) with server challenge \"b'6c8df0c69b97f4f1'\"\n",
      "2021-02-23 20:10:00,158 - SMB.SMBConnection - INFO - Server supports SMB signing\n",
      "2021-02-23 20:10:00,160 - SMB.SMBConnection - INFO - SMB signing deactivated. SMB messages will NOT be signed.\n",
      "2021-02-23 20:10:00,217 - SMB.SMBConnection - INFO - Authentication (on SMB2) successful!\n"
     ]
    },
    {
     "name": "stderr",
     "output_type": "stream",
     "text": [
      "\r",
      "  2%|▏         | 2/100 [00:02<01:55,  1.18s/it]"
     ]
    },
    {
     "name": "stdout",
     "output_type": "stream",
     "text": [
      "2021-02-23 20:10:01,172 - SMB.SMBConnection - INFO - Authentication with remote machine \"//10.1.1.52/\" for user \"rodrigo_cunha\" will be using NTLM v2 authentication (with extended security)\n",
      "2021-02-23 20:10:01,322 - SMB.SMBConnection - INFO - Now switching over to SMB2 protocol communication\n",
      "2021-02-23 20:10:01,325 - SMB.SMBConnection - INFO - SMB2 dialect negotiation successful\n",
      "2021-02-23 20:10:01,395 - SMB.SMBConnection - INFO - Performing NTLMv2 authentication (on SMB2) with server challenge \"b'f3be1cd3602320cf'\"\n",
      "2021-02-23 20:10:01,397 - SMB.SMBConnection - INFO - Performing NTLMv2 authentication (on SMB2) with server challenge \"b'f3be1cd3602320cf'\"\n",
      "2021-02-23 20:10:01,400 - SMB.SMBConnection - INFO - Server supports SMB signing\n",
      "2021-02-23 20:10:01,403 - SMB.SMBConnection - INFO - SMB signing deactivated. SMB messages will NOT be signed.\n",
      "2021-02-23 20:10:01,465 - SMB.SMBConnection - INFO - Authentication (on SMB2) successful!\n"
     ]
    },
    {
     "name": "stderr",
     "output_type": "stream",
     "text": [
      "\r",
      "  3%|▎         | 3/100 [00:03<01:52,  1.16s/it]"
     ]
    },
    {
     "name": "stdout",
     "output_type": "stream",
     "text": [
      "2021-02-23 20:10:02,312 - SMB.SMBConnection - INFO - Authentication with remote machine \"//10.1.1.52/\" for user \"rodrigo_cunha\" will be using NTLM v2 authentication (with extended security)\n",
      "2021-02-23 20:10:02,465 - SMB.SMBConnection - INFO - Now switching over to SMB2 protocol communication\n",
      "2021-02-23 20:10:02,466 - SMB.SMBConnection - INFO - SMB2 dialect negotiation successful\n",
      "2021-02-23 20:10:02,539 - SMB.SMBConnection - INFO - Performing NTLMv2 authentication (on SMB2) with server challenge \"b'b8e040b4f093674c'\"\n",
      "2021-02-23 20:10:02,541 - SMB.SMBConnection - INFO - Performing NTLMv2 authentication (on SMB2) with server challenge \"b'b8e040b4f093674c'\"\n",
      "2021-02-23 20:10:02,544 - SMB.SMBConnection - INFO - Server supports SMB signing\n",
      "2021-02-23 20:10:02,545 - SMB.SMBConnection - INFO - SMB signing deactivated. SMB messages will NOT be signed.\n",
      "2021-02-23 20:10:02,609 - SMB.SMBConnection - INFO - Authentication (on SMB2) successful!\n"
     ]
    },
    {
     "name": "stderr",
     "output_type": "stream",
     "text": [
      "\r",
      "  4%|▍         | 4/100 [00:04<02:02,  1.27s/it]"
     ]
    },
    {
     "name": "stdout",
     "output_type": "stream",
     "text": [
      "2021-02-23 20:10:03,752 - SMB.SMBConnection - INFO - Authentication with remote machine \"//10.1.1.52/\" for user \"rodrigo_cunha\" will be using NTLM v2 authentication (with extended security)\n",
      "2021-02-23 20:10:03,865 - SMB.SMBConnection - INFO - Now switching over to SMB2 protocol communication\n",
      "2021-02-23 20:10:03,867 - SMB.SMBConnection - INFO - SMB2 dialect negotiation successful\n",
      "2021-02-23 20:10:03,932 - SMB.SMBConnection - INFO - Performing NTLMv2 authentication (on SMB2) with server challenge \"b'812125fb7cb758a3'\"\n",
      "2021-02-23 20:10:03,934 - SMB.SMBConnection - INFO - Performing NTLMv2 authentication (on SMB2) with server challenge \"b'812125fb7cb758a3'\"\n",
      "2021-02-23 20:10:03,938 - SMB.SMBConnection - INFO - Server supports SMB signing\n",
      "2021-02-23 20:10:03,939 - SMB.SMBConnection - INFO - SMB signing deactivated. SMB messages will NOT be signed.\n",
      "2021-02-23 20:10:04,003 - SMB.SMBConnection - INFO - Authentication (on SMB2) successful!\n"
     ]
    },
    {
     "name": "stderr",
     "output_type": "stream",
     "text": [
      "\r",
      "  5%|▌         | 5/100 [00:06<01:58,  1.25s/it]"
     ]
    },
    {
     "name": "stdout",
     "output_type": "stream",
     "text": [
      "2021-02-23 20:10:04,958 - SMB.SMBConnection - INFO - Authentication with remote machine \"//10.1.1.52/\" for user \"rodrigo_cunha\" will be using NTLM v2 authentication (with extended security)\n",
      "2021-02-23 20:10:05,117 - SMB.SMBConnection - INFO - Now switching over to SMB2 protocol communication\n",
      "2021-02-23 20:10:05,118 - SMB.SMBConnection - INFO - SMB2 dialect negotiation successful\n",
      "2021-02-23 20:10:05,188 - SMB.SMBConnection - INFO - Performing NTLMv2 authentication (on SMB2) with server challenge \"b'aeffde58b91b23b8'\"\n",
      "2021-02-23 20:10:05,189 - SMB.SMBConnection - INFO - Performing NTLMv2 authentication (on SMB2) with server challenge \"b'aeffde58b91b23b8'\"\n",
      "2021-02-23 20:10:05,192 - SMB.SMBConnection - INFO - Server supports SMB signing\n",
      "2021-02-23 20:10:05,194 - SMB.SMBConnection - INFO - SMB signing deactivated. SMB messages will NOT be signed.\n",
      "2021-02-23 20:10:05,259 - SMB.SMBConnection - INFO - Authentication (on SMB2) successful!\n"
     ]
    },
    {
     "name": "stderr",
     "output_type": "stream",
     "text": [
      "\r",
      "  6%|▌         | 6/100 [00:07<02:00,  1.28s/it]"
     ]
    },
    {
     "name": "stdout",
     "output_type": "stream",
     "text": [
      "2021-02-23 20:10:06,297 - SMB.SMBConnection - INFO - Authentication with remote machine \"//10.1.1.52/\" for user \"rodrigo_cunha\" will be using NTLM v2 authentication (with extended security)\n",
      "2021-02-23 20:10:06,451 - SMB.SMBConnection - INFO - Now switching over to SMB2 protocol communication\n",
      "2021-02-23 20:10:06,453 - SMB.SMBConnection - INFO - SMB2 dialect negotiation successful\n",
      "2021-02-23 20:10:06,520 - SMB.SMBConnection - INFO - Performing NTLMv2 authentication (on SMB2) with server challenge \"b'8e562eaccaa06be6'\"\n",
      "2021-02-23 20:10:06,526 - SMB.SMBConnection - INFO - Performing NTLMv2 authentication (on SMB2) with server challenge \"b'8e562eaccaa06be6'\"\n",
      "2021-02-23 20:10:06,535 - SMB.SMBConnection - INFO - Server supports SMB signing\n",
      "2021-02-23 20:10:06,537 - SMB.SMBConnection - INFO - SMB signing deactivated. SMB messages will NOT be signed.\n",
      "2021-02-23 20:10:06,595 - SMB.SMBConnection - INFO - Authentication (on SMB2) successful!\n"
     ]
    },
    {
     "name": "stderr",
     "output_type": "stream",
     "text": [
      "\r",
      "  7%|▋         | 7/100 [00:08<01:58,  1.28s/it]"
     ]
    },
    {
     "name": "stdout",
     "output_type": "stream",
     "text": [
      "2021-02-23 20:10:07,569 - SMB.SMBConnection - INFO - Authentication with remote machine \"//10.1.1.52/\" for user \"rodrigo_cunha\" will be using NTLM v2 authentication (with extended security)\n",
      "2021-02-23 20:10:07,675 - SMB.SMBConnection - INFO - Now switching over to SMB2 protocol communication\n",
      "2021-02-23 20:10:07,676 - SMB.SMBConnection - INFO - SMB2 dialect negotiation successful\n",
      "2021-02-23 20:10:07,751 - SMB.SMBConnection - INFO - Performing NTLMv2 authentication (on SMB2) with server challenge \"b'f6b5e8ece352190d'\"\n",
      "2021-02-23 20:10:07,753 - SMB.SMBConnection - INFO - Performing NTLMv2 authentication (on SMB2) with server challenge \"b'f6b5e8ece352190d'\"\n",
      "2021-02-23 20:10:07,755 - SMB.SMBConnection - INFO - Server supports SMB signing\n",
      "2021-02-23 20:10:07,756 - SMB.SMBConnection - INFO - SMB signing deactivated. SMB messages will NOT be signed.\n",
      "2021-02-23 20:10:07,820 - SMB.SMBConnection - INFO - Authentication (on SMB2) successful!\n"
     ]
    },
    {
     "name": "stderr",
     "output_type": "stream",
     "text": [
      "\r",
      "  8%|▊         | 8/100 [00:09<01:54,  1.25s/it]"
     ]
    },
    {
     "name": "stdout",
     "output_type": "stream",
     "text": [
      "2021-02-23 20:10:08,758 - SMB.SMBConnection - INFO - Authentication with remote machine \"//10.1.1.52/\" for user \"rodrigo_cunha\" will be using NTLM v2 authentication (with extended security)\n",
      "2021-02-23 20:10:08,913 - SMB.SMBConnection - INFO - Now switching over to SMB2 protocol communication\n",
      "2021-02-23 20:10:08,914 - SMB.SMBConnection - INFO - SMB2 dialect negotiation successful\n",
      "2021-02-23 20:10:08,989 - SMB.SMBConnection - INFO - Performing NTLMv2 authentication (on SMB2) with server challenge \"b'5387c0a01a375020'\"\n",
      "2021-02-23 20:10:08,990 - SMB.SMBConnection - INFO - Performing NTLMv2 authentication (on SMB2) with server challenge \"b'5387c0a01a375020'\"\n",
      "2021-02-23 20:10:08,993 - SMB.SMBConnection - INFO - Server supports SMB signing\n",
      "2021-02-23 20:10:08,994 - SMB.SMBConnection - INFO - SMB signing deactivated. SMB messages will NOT be signed.\n",
      "2021-02-23 20:10:09,057 - SMB.SMBConnection - INFO - Authentication (on SMB2) successful!\n"
     ]
    },
    {
     "name": "stderr",
     "output_type": "stream",
     "text": [
      "\r",
      "  9%|▉         | 9/100 [00:11<01:51,  1.23s/it]"
     ]
    },
    {
     "name": "stdout",
     "output_type": "stream",
     "text": [
      "2021-02-23 20:10:09,947 - SMB.SMBConnection - INFO - Authentication with remote machine \"//10.1.1.52/\" for user \"rodrigo_cunha\" will be using NTLM v2 authentication (with extended security)\n",
      "2021-02-23 20:10:10,042 - SMB.SMBConnection - INFO - Now switching over to SMB2 protocol communication\n",
      "2021-02-23 20:10:10,044 - SMB.SMBConnection - INFO - SMB2 dialect negotiation successful\n",
      "2021-02-23 20:10:10,107 - SMB.SMBConnection - INFO - Performing NTLMv2 authentication (on SMB2) with server challenge \"b'00d2fdd5a87a28d5'\"\n",
      "2021-02-23 20:10:10,110 - SMB.SMBConnection - INFO - Performing NTLMv2 authentication (on SMB2) with server challenge \"b'00d2fdd5a87a28d5'\"\n",
      "2021-02-23 20:10:10,115 - SMB.SMBConnection - INFO - Server supports SMB signing\n",
      "2021-02-23 20:10:10,122 - SMB.SMBConnection - INFO - SMB signing deactivated. SMB messages will NOT be signed.\n",
      "2021-02-23 20:10:10,178 - SMB.SMBConnection - INFO - Authentication (on SMB2) successful!\n"
     ]
    },
    {
     "name": "stderr",
     "output_type": "stream",
     "text": [
      "\r",
      " 10%|█         | 10/100 [00:12<01:52,  1.25s/it]"
     ]
    },
    {
     "name": "stdout",
     "output_type": "stream",
     "text": [
      "2021-02-23 20:10:11,247 - SMB.SMBConnection - INFO - Authentication with remote machine \"//10.1.1.52/\" for user \"rodrigo_cunha\" will be using NTLM v2 authentication (with extended security)\n",
      "2021-02-23 20:10:11,358 - SMB.SMBConnection - INFO - Now switching over to SMB2 protocol communication\n",
      "2021-02-23 20:10:11,361 - SMB.SMBConnection - INFO - SMB2 dialect negotiation successful\n",
      "2021-02-23 20:10:11,428 - SMB.SMBConnection - INFO - Performing NTLMv2 authentication (on SMB2) with server challenge \"b'ac4096ffcf312f8d'\"\n",
      "2021-02-23 20:10:11,432 - SMB.SMBConnection - INFO - Performing NTLMv2 authentication (on SMB2) with server challenge \"b'ac4096ffcf312f8d'\"\n",
      "2021-02-23 20:10:11,446 - SMB.SMBConnection - INFO - Server supports SMB signing\n",
      "2021-02-23 20:10:11,451 - SMB.SMBConnection - INFO - SMB signing deactivated. SMB messages will NOT be signed.\n",
      "2021-02-23 20:10:11,515 - SMB.SMBConnection - INFO - Authentication (on SMB2) successful!\n"
     ]
    },
    {
     "name": "stderr",
     "output_type": "stream",
     "text": [
      "\r",
      " 11%|█         | 11/100 [00:13<01:52,  1.26s/it]"
     ]
    },
    {
     "name": "stdout",
     "output_type": "stream",
     "text": [
      "2021-02-23 20:10:12,527 - SMB.SMBConnection - INFO - Authentication with remote machine \"//10.1.1.52/\" for user \"rodrigo_cunha\" will be using NTLM v2 authentication (with extended security)\n",
      "2021-02-23 20:10:12,682 - SMB.SMBConnection - INFO - Now switching over to SMB2 protocol communication\n",
      "2021-02-23 20:10:12,684 - SMB.SMBConnection - INFO - SMB2 dialect negotiation successful\n",
      "2021-02-23 20:10:12,750 - SMB.SMBConnection - INFO - Performing NTLMv2 authentication (on SMB2) with server challenge \"b'09356e4aac645c80'\"\n",
      "2021-02-23 20:10:12,753 - SMB.SMBConnection - INFO - Performing NTLMv2 authentication (on SMB2) with server challenge \"b'09356e4aac645c80'\"\n",
      "2021-02-23 20:10:12,756 - SMB.SMBConnection - INFO - Server supports SMB signing\n",
      "2021-02-23 20:10:12,758 - SMB.SMBConnection - INFO - SMB signing deactivated. SMB messages will NOT be signed.\n",
      "2021-02-23 20:10:12,823 - SMB.SMBConnection - INFO - Authentication (on SMB2) successful!\n"
     ]
    },
    {
     "name": "stderr",
     "output_type": "stream",
     "text": [
      "\r",
      " 12%|█▏        | 12/100 [00:14<01:48,  1.23s/it]"
     ]
    },
    {
     "name": "stdout",
     "output_type": "stream",
     "text": [
      "2021-02-23 20:10:13,693 - SMB.SMBConnection - INFO - Authentication with remote machine \"//10.1.1.52/\" for user \"rodrigo_cunha\" will be using NTLM v2 authentication (with extended security)\n",
      "2021-02-23 20:10:13,838 - SMB.SMBConnection - INFO - Now switching over to SMB2 protocol communication\n",
      "2021-02-23 20:10:13,840 - SMB.SMBConnection - INFO - SMB2 dialect negotiation successful\n",
      "2021-02-23 20:10:13,903 - SMB.SMBConnection - INFO - Performing NTLMv2 authentication (on SMB2) with server challenge \"b'25a44ec232daf9b9'\"\n",
      "2021-02-23 20:10:13,904 - SMB.SMBConnection - INFO - Performing NTLMv2 authentication (on SMB2) with server challenge \"b'25a44ec232daf9b9'\"\n",
      "2021-02-23 20:10:13,910 - SMB.SMBConnection - INFO - Server supports SMB signing\n",
      "2021-02-23 20:10:13,911 - SMB.SMBConnection - INFO - SMB signing deactivated. SMB messages will NOT be signed.\n",
      "2021-02-23 20:10:13,972 - SMB.SMBConnection - INFO - Authentication (on SMB2) successful!\n"
     ]
    },
    {
     "name": "stderr",
     "output_type": "stream",
     "text": [
      "\r",
      " 13%|█▎        | 13/100 [00:16<01:48,  1.24s/it]"
     ]
    },
    {
     "name": "stdout",
     "output_type": "stream",
     "text": [
      "2021-02-23 20:10:14,967 - SMB.SMBConnection - INFO - Authentication with remote machine \"//10.1.1.52/\" for user \"rodrigo_cunha\" will be using NTLM v2 authentication (with extended security)\n",
      "2021-02-23 20:10:15,130 - SMB.SMBConnection - INFO - Now switching over to SMB2 protocol communication\n",
      "2021-02-23 20:10:15,133 - SMB.SMBConnection - INFO - SMB2 dialect negotiation successful\n",
      "2021-02-23 20:10:15,198 - SMB.SMBConnection - INFO - Performing NTLMv2 authentication (on SMB2) with server challenge \"b'677352334ff6dfb7'\"\n",
      "2021-02-23 20:10:15,199 - SMB.SMBConnection - INFO - Performing NTLMv2 authentication (on SMB2) with server challenge \"b'677352334ff6dfb7'\"\n",
      "2021-02-23 20:10:15,203 - SMB.SMBConnection - INFO - Server supports SMB signing\n",
      "2021-02-23 20:10:15,204 - SMB.SMBConnection - INFO - SMB signing deactivated. SMB messages will NOT be signed.\n",
      "2021-02-23 20:10:15,265 - SMB.SMBConnection - INFO - Authentication (on SMB2) successful!\n"
     ]
    },
    {
     "name": "stderr",
     "output_type": "stream",
     "text": [
      "\r",
      " 14%|█▍        | 14/100 [00:17<01:46,  1.23s/it]"
     ]
    },
    {
     "name": "stdout",
     "output_type": "stream",
     "text": [
      "2021-02-23 20:10:16,177 - SMB.SMBConnection - INFO - Authentication with remote machine \"//10.1.1.52/\" for user \"rodrigo_cunha\" will be using NTLM v2 authentication (with extended security)\n",
      "2021-02-23 20:10:16,328 - SMB.SMBConnection - INFO - Now switching over to SMB2 protocol communication\n",
      "2021-02-23 20:10:16,329 - SMB.SMBConnection - INFO - SMB2 dialect negotiation successful\n",
      "2021-02-23 20:10:16,404 - SMB.SMBConnection - INFO - Performing NTLMv2 authentication (on SMB2) with server challenge \"b'25e8229ac6bf1bf7'\"\n",
      "2021-02-23 20:10:16,405 - SMB.SMBConnection - INFO - Performing NTLMv2 authentication (on SMB2) with server challenge \"b'25e8229ac6bf1bf7'\"\n",
      "2021-02-23 20:10:16,411 - SMB.SMBConnection - INFO - Server supports SMB signing\n",
      "2021-02-23 20:10:16,413 - SMB.SMBConnection - INFO - SMB signing deactivated. SMB messages will NOT be signed.\n",
      "2021-02-23 20:10:16,472 - SMB.SMBConnection - INFO - Authentication (on SMB2) successful!\n"
     ]
    },
    {
     "name": "stderr",
     "output_type": "stream",
     "text": [
      "\r",
      " 15%|█▌        | 15/100 [00:18<01:43,  1.22s/it]"
     ]
    },
    {
     "name": "stdout",
     "output_type": "stream",
     "text": [
      "2021-02-23 20:10:17,359 - SMB.SMBConnection - INFO - Authentication with remote machine \"//10.1.1.52/\" for user \"rodrigo_cunha\" will be using NTLM v2 authentication (with extended security)\n",
      "2021-02-23 20:10:17,539 - SMB.SMBConnection - INFO - Now switching over to SMB2 protocol communication\n",
      "2021-02-23 20:10:17,540 - SMB.SMBConnection - INFO - SMB2 dialect negotiation successful\n",
      "2021-02-23 20:10:17,607 - SMB.SMBConnection - INFO - Performing NTLMv2 authentication (on SMB2) with server challenge \"b'd856fc6f34a67eea'\"\n",
      "2021-02-23 20:10:17,609 - SMB.SMBConnection - INFO - Performing NTLMv2 authentication (on SMB2) with server challenge \"b'd856fc6f34a67eea'\"\n",
      "2021-02-23 20:10:17,611 - SMB.SMBConnection - INFO - Server supports SMB signing\n",
      "2021-02-23 20:10:17,612 - SMB.SMBConnection - INFO - SMB signing deactivated. SMB messages will NOT be signed.\n",
      "2021-02-23 20:10:17,675 - SMB.SMBConnection - INFO - Authentication (on SMB2) successful!\n"
     ]
    },
    {
     "name": "stderr",
     "output_type": "stream",
     "text": [
      "\r",
      " 16%|█▌        | 16/100 [00:19<01:46,  1.27s/it]"
     ]
    },
    {
     "name": "stdout",
     "output_type": "stream",
     "text": [
      "2021-02-23 20:10:18,753 - SMB.SMBConnection - INFO - Authentication with remote machine \"//10.1.1.52/\" for user \"rodrigo_cunha\" will be using NTLM v2 authentication (with extended security)\n",
      "2021-02-23 20:10:18,814 - SMB.SMBConnection - INFO - Now switching over to SMB2 protocol communication\n",
      "2021-02-23 20:10:18,817 - SMB.SMBConnection - INFO - SMB2 dialect negotiation successful\n",
      "2021-02-23 20:10:18,886 - SMB.SMBConnection - INFO - Performing NTLMv2 authentication (on SMB2) with server challenge \"b'53f5fc0cb2cedad5'\"\n",
      "2021-02-23 20:10:18,888 - SMB.SMBConnection - INFO - Performing NTLMv2 authentication (on SMB2) with server challenge \"b'53f5fc0cb2cedad5'\"\n",
      "2021-02-23 20:10:18,894 - SMB.SMBConnection - INFO - Server supports SMB signing\n",
      "2021-02-23 20:10:18,896 - SMB.SMBConnection - INFO - SMB signing deactivated. SMB messages will NOT be signed.\n",
      "2021-02-23 20:10:18,955 - SMB.SMBConnection - INFO - Authentication (on SMB2) successful!\n"
     ]
    },
    {
     "name": "stderr",
     "output_type": "stream",
     "text": [
      "\r",
      " 17%|█▋        | 17/100 [00:21<01:43,  1.25s/it]"
     ]
    },
    {
     "name": "stdout",
     "output_type": "stream",
     "text": [
      "2021-02-23 20:10:19,947 - SMB.SMBConnection - INFO - Authentication with remote machine \"//10.1.1.52/\" for user \"rodrigo_cunha\" will be using NTLM v2 authentication (with extended security)\n",
      "2021-02-23 20:10:20,088 - SMB.SMBConnection - INFO - Now switching over to SMB2 protocol communication\n",
      "2021-02-23 20:10:20,090 - SMB.SMBConnection - INFO - SMB2 dialect negotiation successful\n",
      "2021-02-23 20:10:20,158 - SMB.SMBConnection - INFO - Performing NTLMv2 authentication (on SMB2) with server challenge \"b'292b28c606883d09'\"\n",
      "2021-02-23 20:10:20,159 - SMB.SMBConnection - INFO - Performing NTLMv2 authentication (on SMB2) with server challenge \"b'292b28c606883d09'\"\n",
      "2021-02-23 20:10:20,162 - SMB.SMBConnection - INFO - Server supports SMB signing\n",
      "2021-02-23 20:10:20,166 - SMB.SMBConnection - INFO - SMB signing deactivated. SMB messages will NOT be signed.\n",
      "2021-02-23 20:10:20,233 - SMB.SMBConnection - INFO - Authentication (on SMB2) successful!\n"
     ]
    },
    {
     "name": "stderr",
     "output_type": "stream",
     "text": [
      "\r",
      " 18%|█▊        | 18/100 [00:22<01:41,  1.24s/it]"
     ]
    },
    {
     "name": "stdout",
     "output_type": "stream",
     "text": [
      "2021-02-23 20:10:21,162 - SMB.SMBConnection - INFO - Authentication with remote machine \"//10.1.1.52/\" for user \"rodrigo_cunha\" will be using NTLM v2 authentication (with extended security)\n",
      "2021-02-23 20:10:21,279 - SMB.SMBConnection - INFO - Now switching over to SMB2 protocol communication\n",
      "2021-02-23 20:10:21,286 - SMB.SMBConnection - INFO - SMB2 dialect negotiation successful\n",
      "2021-02-23 20:10:21,375 - SMB.SMBConnection - INFO - Performing NTLMv2 authentication (on SMB2) with server challenge \"b'76bfcefb21effb4a'\"\n",
      "2021-02-23 20:10:21,378 - SMB.SMBConnection - INFO - Performing NTLMv2 authentication (on SMB2) with server challenge \"b'76bfcefb21effb4a'\"\n",
      "2021-02-23 20:10:21,383 - SMB.SMBConnection - INFO - Server supports SMB signing\n",
      "2021-02-23 20:10:21,387 - SMB.SMBConnection - INFO - SMB signing deactivated. SMB messages will NOT be signed.\n",
      "2021-02-23 20:10:21,445 - SMB.SMBConnection - INFO - Authentication (on SMB2) successful!\n"
     ]
    },
    {
     "name": "stderr",
     "output_type": "stream",
     "text": [
      "\r",
      " 19%|█▉        | 19/100 [00:23<01:38,  1.22s/it]"
     ]
    },
    {
     "name": "stdout",
     "output_type": "stream",
     "text": [
      "2021-02-23 20:10:22,337 - SMB.SMBConnection - INFO - Authentication with remote machine \"//10.1.1.52/\" for user \"rodrigo_cunha\" will be using NTLM v2 authentication (with extended security)\n",
      "2021-02-23 20:10:22,463 - SMB.SMBConnection - INFO - Now switching over to SMB2 protocol communication\n",
      "2021-02-23 20:10:22,467 - SMB.SMBConnection - INFO - SMB2 dialect negotiation successful\n",
      "2021-02-23 20:10:22,531 - SMB.SMBConnection - INFO - Performing NTLMv2 authentication (on SMB2) with server challenge \"b'910b6335e5506820'\"\n",
      "2021-02-23 20:10:22,533 - SMB.SMBConnection - INFO - Performing NTLMv2 authentication (on SMB2) with server challenge \"b'910b6335e5506820'\"\n",
      "2021-02-23 20:10:22,545 - SMB.SMBConnection - INFO - Server supports SMB signing\n",
      "2021-02-23 20:10:22,548 - SMB.SMBConnection - INFO - SMB signing deactivated. SMB messages will NOT be signed.\n",
      "2021-02-23 20:10:22,602 - SMB.SMBConnection - INFO - Authentication (on SMB2) successful!\n"
     ]
    },
    {
     "name": "stderr",
     "output_type": "stream",
     "text": [
      "\r",
      " 20%|██        | 20/100 [00:24<01:36,  1.21s/it]"
     ]
    },
    {
     "name": "stdout",
     "output_type": "stream",
     "text": [
      "2021-02-23 20:10:23,517 - SMB.SMBConnection - INFO - Authentication with remote machine \"//10.1.1.52/\" for user \"rodrigo_cunha\" will be using NTLM v2 authentication (with extended security)\n",
      "2021-02-23 20:10:23,609 - SMB.SMBConnection - INFO - Now switching over to SMB2 protocol communication\n",
      "2021-02-23 20:10:23,613 - SMB.SMBConnection - INFO - SMB2 dialect negotiation successful\n",
      "2021-02-23 20:10:23,674 - SMB.SMBConnection - INFO - Performing NTLMv2 authentication (on SMB2) with server challenge \"b'dbd95aea4e5125f9'\"\n",
      "2021-02-23 20:10:23,676 - SMB.SMBConnection - INFO - Performing NTLMv2 authentication (on SMB2) with server challenge \"b'dbd95aea4e5125f9'\"\n",
      "2021-02-23 20:10:23,683 - SMB.SMBConnection - INFO - Server supports SMB signing\n",
      "2021-02-23 20:10:23,684 - SMB.SMBConnection - INFO - SMB signing deactivated. SMB messages will NOT be signed.\n",
      "2021-02-23 20:10:23,749 - SMB.SMBConnection - INFO - Authentication (on SMB2) successful!\n"
     ]
    },
    {
     "name": "stderr",
     "output_type": "stream",
     "text": [
      "\r",
      " 21%|██        | 21/100 [00:25<01:34,  1.20s/it]"
     ]
    },
    {
     "name": "stdout",
     "output_type": "stream",
     "text": [
      "2021-02-23 20:10:24,701 - SMB.SMBConnection - INFO - Authentication with remote machine \"//10.1.1.52/\" for user \"rodrigo_cunha\" will be using NTLM v2 authentication (with extended security)\n",
      "2021-02-23 20:10:24,855 - SMB.SMBConnection - INFO - Now switching over to SMB2 protocol communication\n",
      "2021-02-23 20:10:24,858 - SMB.SMBConnection - INFO - SMB2 dialect negotiation successful\n",
      "2021-02-23 20:10:24,930 - SMB.SMBConnection - INFO - Performing NTLMv2 authentication (on SMB2) with server challenge \"b'a76d789fa9b26b62'\"\n",
      "2021-02-23 20:10:24,931 - SMB.SMBConnection - INFO - Performing NTLMv2 authentication (on SMB2) with server challenge \"b'a76d789fa9b26b62'\"\n",
      "2021-02-23 20:10:24,935 - SMB.SMBConnection - INFO - Server supports SMB signing\n",
      "2021-02-23 20:10:24,936 - SMB.SMBConnection - INFO - SMB signing deactivated. SMB messages will NOT be signed.\n",
      "2021-02-23 20:10:25,002 - SMB.SMBConnection - INFO - Authentication (on SMB2) successful!\n"
     ]
    },
    {
     "name": "stderr",
     "output_type": "stream",
     "text": [
      "\r",
      " 22%|██▏       | 22/100 [00:26<01:31,  1.17s/it]"
     ]
    },
    {
     "name": "stdout",
     "output_type": "stream",
     "text": [
      "2021-02-23 20:10:25,817 - SMB.SMBConnection - INFO - Authentication with remote machine \"//10.1.1.52/\" for user \"rodrigo_cunha\" will be using NTLM v2 authentication (with extended security)\n",
      "2021-02-23 20:10:25,927 - SMB.SMBConnection - INFO - Now switching over to SMB2 protocol communication\n",
      "2021-02-23 20:10:25,929 - SMB.SMBConnection - INFO - SMB2 dialect negotiation successful\n",
      "2021-02-23 20:10:26,002 - SMB.SMBConnection - INFO - Performing NTLMv2 authentication (on SMB2) with server challenge \"b'e40b6c3659d444cd'\"\n",
      "2021-02-23 20:10:26,003 - SMB.SMBConnection - INFO - Performing NTLMv2 authentication (on SMB2) with server challenge \"b'e40b6c3659d444cd'\"\n",
      "2021-02-23 20:10:26,005 - SMB.SMBConnection - INFO - Server supports SMB signing\n",
      "2021-02-23 20:10:26,008 - SMB.SMBConnection - INFO - SMB signing deactivated. SMB messages will NOT be signed.\n",
      "2021-02-23 20:10:26,072 - SMB.SMBConnection - INFO - Authentication (on SMB2) successful!\n"
     ]
    },
    {
     "name": "stderr",
     "output_type": "stream",
     "text": [
      "\r",
      " 23%|██▎       | 23/100 [00:29<02:00,  1.57s/it]"
     ]
    },
    {
     "name": "stdout",
     "output_type": "stream",
     "text": [
      "2021-02-23 20:10:28,294 - SMB.SMBConnection - INFO - Authentication with remote machine \"//10.1.1.52/\" for user \"rodrigo_cunha\" will be using NTLM v2 authentication (with extended security)\n",
      "2021-02-23 20:10:28,709 - SMB.SMBConnection - INFO - Now switching over to SMB2 protocol communication\n",
      "2021-02-23 20:10:28,710 - SMB.SMBConnection - INFO - SMB2 dialect negotiation successful\n",
      "2021-02-23 20:10:28,880 - SMB.SMBConnection - INFO - Performing NTLMv2 authentication (on SMB2) with server challenge \"b'3861747064e59eed'\"\n",
      "2021-02-23 20:10:28,881 - SMB.SMBConnection - INFO - Performing NTLMv2 authentication (on SMB2) with server challenge \"b'3861747064e59eed'\"\n",
      "2021-02-23 20:10:28,883 - SMB.SMBConnection - INFO - Server supports SMB signing\n",
      "2021-02-23 20:10:28,885 - SMB.SMBConnection - INFO - SMB signing deactivated. SMB messages will NOT be signed.\n",
      "2021-02-23 20:10:29,019 - SMB.SMBConnection - INFO - Authentication (on SMB2) successful!\n"
     ]
    },
    {
     "name": "stderr",
     "output_type": "stream",
     "text": [
      "\r",
      " 24%|██▍       | 24/100 [00:32<02:34,  2.04s/it]"
     ]
    },
    {
     "name": "stdout",
     "output_type": "stream",
     "text": [
      "2021-02-23 20:10:31,436 - SMB.SMBConnection - INFO - Authentication with remote machine \"//10.1.1.52/\" for user \"rodrigo_cunha\" will be using NTLM v2 authentication (with extended security)\n",
      "2021-02-23 20:10:31,512 - SMB.SMBConnection - INFO - Now switching over to SMB2 protocol communication\n",
      "2021-02-23 20:10:31,513 - SMB.SMBConnection - INFO - SMB2 dialect negotiation successful\n",
      "2021-02-23 20:10:31,582 - SMB.SMBConnection - INFO - Performing NTLMv2 authentication (on SMB2) with server challenge \"b'9322930771f9eae2'\"\n",
      "2021-02-23 20:10:31,586 - SMB.SMBConnection - INFO - Performing NTLMv2 authentication (on SMB2) with server challenge \"b'9322930771f9eae2'\"\n",
      "2021-02-23 20:10:31,589 - SMB.SMBConnection - INFO - Server supports SMB signing\n",
      "2021-02-23 20:10:31,594 - SMB.SMBConnection - INFO - SMB signing deactivated. SMB messages will NOT be signed.\n",
      "2021-02-23 20:10:31,649 - SMB.SMBConnection - INFO - Authentication (on SMB2) successful!\n"
     ]
    },
    {
     "name": "stderr",
     "output_type": "stream",
     "text": [
      "\r",
      " 25%|██▌       | 25/100 [00:33<02:12,  1.77s/it]"
     ]
    },
    {
     "name": "stdout",
     "output_type": "stream",
     "text": [
      "2021-02-23 20:10:32,589 - SMB.SMBConnection - INFO - Authentication with remote machine \"//10.1.1.52/\" for user \"rodrigo_cunha\" will be using NTLM v2 authentication (with extended security)\n",
      "2021-02-23 20:10:32,711 - SMB.SMBConnection - INFO - Now switching over to SMB2 protocol communication\n",
      "2021-02-23 20:10:32,716 - SMB.SMBConnection - INFO - SMB2 dialect negotiation successful\n",
      "2021-02-23 20:10:32,777 - SMB.SMBConnection - INFO - Performing NTLMv2 authentication (on SMB2) with server challenge \"b'3c08ce88a77b3851'\"\n",
      "2021-02-23 20:10:32,782 - SMB.SMBConnection - INFO - Performing NTLMv2 authentication (on SMB2) with server challenge \"b'3c08ce88a77b3851'\"\n",
      "2021-02-23 20:10:32,785 - SMB.SMBConnection - INFO - Server supports SMB signing\n",
      "2021-02-23 20:10:32,793 - SMB.SMBConnection - INFO - SMB signing deactivated. SMB messages will NOT be signed.\n",
      "2021-02-23 20:10:32,853 - SMB.SMBConnection - INFO - Authentication (on SMB2) successful!\n"
     ]
    },
    {
     "name": "stderr",
     "output_type": "stream",
     "text": [
      "\r",
      " 26%|██▌       | 26/100 [00:34<01:54,  1.55s/it]"
     ]
    },
    {
     "name": "stdout",
     "output_type": "stream",
     "text": [
      "2021-02-23 20:10:33,632 - SMB.SMBConnection - INFO - Authentication with remote machine \"//10.1.1.52/\" for user \"rodrigo_cunha\" will be using NTLM v2 authentication (with extended security)\n",
      "2021-02-23 20:10:33,790 - SMB.SMBConnection - INFO - Now switching over to SMB2 protocol communication\n",
      "2021-02-23 20:10:33,791 - SMB.SMBConnection - INFO - SMB2 dialect negotiation successful\n",
      "2021-02-23 20:10:33,860 - SMB.SMBConnection - INFO - Performing NTLMv2 authentication (on SMB2) with server challenge \"b'60469fe87d30ed76'\"\n",
      "2021-02-23 20:10:33,861 - SMB.SMBConnection - INFO - Performing NTLMv2 authentication (on SMB2) with server challenge \"b'60469fe87d30ed76'\"\n",
      "2021-02-23 20:10:33,864 - SMB.SMBConnection - INFO - Server supports SMB signing\n",
      "2021-02-23 20:10:33,866 - SMB.SMBConnection - INFO - SMB signing deactivated. SMB messages will NOT be signed.\n",
      "2021-02-23 20:10:33,925 - SMB.SMBConnection - INFO - Authentication (on SMB2) successful!\n"
     ]
    },
    {
     "name": "stderr",
     "output_type": "stream",
     "text": [
      "\r",
      " 27%|██▋       | 27/100 [00:36<01:45,  1.45s/it]"
     ]
    },
    {
     "name": "stdout",
     "output_type": "stream",
     "text": [
      "2021-02-23 20:10:34,841 - SMB.SMBConnection - INFO - Authentication with remote machine \"//10.1.1.52/\" for user \"rodrigo_cunha\" will be using NTLM v2 authentication (with extended security)\n",
      "2021-02-23 20:10:34,938 - SMB.SMBConnection - INFO - Now switching over to SMB2 protocol communication\n",
      "2021-02-23 20:10:34,940 - SMB.SMBConnection - INFO - SMB2 dialect negotiation successful\n",
      "2021-02-23 20:10:35,012 - SMB.SMBConnection - INFO - Performing NTLMv2 authentication (on SMB2) with server challenge \"b'edb723534bfb01c4'\"\n",
      "2021-02-23 20:10:35,013 - SMB.SMBConnection - INFO - Performing NTLMv2 authentication (on SMB2) with server challenge \"b'edb723534bfb01c4'\"\n",
      "2021-02-23 20:10:35,016 - SMB.SMBConnection - INFO - Server supports SMB signing\n",
      "2021-02-23 20:10:35,017 - SMB.SMBConnection - INFO - SMB signing deactivated. SMB messages will NOT be signed.\n",
      "2021-02-23 20:10:35,090 - SMB.SMBConnection - INFO - Authentication (on SMB2) successful!\n"
     ]
    },
    {
     "name": "stderr",
     "output_type": "stream",
     "text": [
      "\r",
      " 28%|██▊       | 28/100 [00:37<01:37,  1.35s/it]"
     ]
    },
    {
     "name": "stdout",
     "output_type": "stream",
     "text": [
      "2021-02-23 20:10:35,963 - SMB.SMBConnection - INFO - Authentication with remote machine \"//10.1.1.52/\" for user \"rodrigo_cunha\" will be using NTLM v2 authentication (with extended security)\n",
      "2021-02-23 20:10:36,131 - SMB.SMBConnection - INFO - Now switching over to SMB2 protocol communication\n",
      "2021-02-23 20:10:36,132 - SMB.SMBConnection - INFO - SMB2 dialect negotiation successful\n",
      "2021-02-23 20:10:36,194 - SMB.SMBConnection - INFO - Performing NTLMv2 authentication (on SMB2) with server challenge \"b'51a5f201cb0dcd44'\"\n",
      "2021-02-23 20:10:36,195 - SMB.SMBConnection - INFO - Performing NTLMv2 authentication (on SMB2) with server challenge \"b'51a5f201cb0dcd44'\"\n",
      "2021-02-23 20:10:36,198 - SMB.SMBConnection - INFO - Server supports SMB signing\n",
      "2021-02-23 20:10:36,200 - SMB.SMBConnection - INFO - SMB signing deactivated. SMB messages will NOT be signed.\n",
      "2021-02-23 20:10:36,268 - SMB.SMBConnection - INFO - Authentication (on SMB2) successful!\n"
     ]
    },
    {
     "name": "stderr",
     "output_type": "stream",
     "text": [
      "\r",
      " 29%|██▉       | 29/100 [00:38<01:32,  1.31s/it]"
     ]
    },
    {
     "name": "stdout",
     "output_type": "stream",
     "text": [
      "2021-02-23 20:10:37,166 - SMB.SMBConnection - INFO - Authentication with remote machine \"//10.1.1.52/\" for user \"rodrigo_cunha\" will be using NTLM v2 authentication (with extended security)\n",
      "2021-02-23 20:10:37,332 - SMB.SMBConnection - INFO - Now switching over to SMB2 protocol communication\n",
      "2021-02-23 20:10:37,333 - SMB.SMBConnection - INFO - SMB2 dialect negotiation successful\n",
      "2021-02-23 20:10:37,396 - SMB.SMBConnection - INFO - Performing NTLMv2 authentication (on SMB2) with server challenge \"b'00e459362ed4af85'\"\n",
      "2021-02-23 20:10:37,398 - SMB.SMBConnection - INFO - Performing NTLMv2 authentication (on SMB2) with server challenge \"b'00e459362ed4af85'\"\n",
      "2021-02-23 20:10:37,400 - SMB.SMBConnection - INFO - Server supports SMB signing\n",
      "2021-02-23 20:10:37,401 - SMB.SMBConnection - INFO - SMB signing deactivated. SMB messages will NOT be signed.\n",
      "2021-02-23 20:10:37,465 - SMB.SMBConnection - INFO - Authentication (on SMB2) successful!\n"
     ]
    },
    {
     "name": "stderr",
     "output_type": "stream",
     "text": [
      "\r",
      " 30%|███       | 30/100 [00:39<01:28,  1.26s/it]"
     ]
    },
    {
     "name": "stdout",
     "output_type": "stream",
     "text": [
      "2021-02-23 20:10:38,322 - SMB.SMBConnection - INFO - Authentication with remote machine \"//10.1.1.52/\" for user \"rodrigo_cunha\" will be using NTLM v2 authentication (with extended security)\n",
      "2021-02-23 20:10:38,466 - SMB.SMBConnection - INFO - Now switching over to SMB2 protocol communication\n",
      "2021-02-23 20:10:38,467 - SMB.SMBConnection - INFO - SMB2 dialect negotiation successful\n",
      "2021-02-23 20:10:38,531 - SMB.SMBConnection - INFO - Performing NTLMv2 authentication (on SMB2) with server challenge \"b'44e5aa09a7764bfa'\"\n",
      "2021-02-23 20:10:38,533 - SMB.SMBConnection - INFO - Performing NTLMv2 authentication (on SMB2) with server challenge \"b'44e5aa09a7764bfa'\"\n",
      "2021-02-23 20:10:38,536 - SMB.SMBConnection - INFO - Server supports SMB signing\n",
      "2021-02-23 20:10:38,537 - SMB.SMBConnection - INFO - SMB signing deactivated. SMB messages will NOT be signed.\n",
      "2021-02-23 20:10:38,599 - SMB.SMBConnection - INFO - Authentication (on SMB2) successful!\n"
     ]
    },
    {
     "name": "stderr",
     "output_type": "stream",
     "text": [
      "\r",
      " 31%|███       | 31/100 [00:40<01:25,  1.24s/it]"
     ]
    },
    {
     "name": "stdout",
     "output_type": "stream",
     "text": [
      "2021-02-23 20:10:39,517 - SMB.SMBConnection - INFO - Authentication with remote machine \"//10.1.1.52/\" for user \"rodrigo_cunha\" will be using NTLM v2 authentication (with extended security)\n",
      "2021-02-23 20:10:39,634 - SMB.SMBConnection - INFO - Now switching over to SMB2 protocol communication\n",
      "2021-02-23 20:10:39,635 - SMB.SMBConnection - INFO - SMB2 dialect negotiation successful\n",
      "2021-02-23 20:10:39,702 - SMB.SMBConnection - INFO - Performing NTLMv2 authentication (on SMB2) with server challenge \"b'deda508ad1a86f16'\"\n",
      "2021-02-23 20:10:39,703 - SMB.SMBConnection - INFO - Performing NTLMv2 authentication (on SMB2) with server challenge \"b'deda508ad1a86f16'\"\n",
      "2021-02-23 20:10:39,706 - SMB.SMBConnection - INFO - Server supports SMB signing\n",
      "2021-02-23 20:10:39,708 - SMB.SMBConnection - INFO - SMB signing deactivated. SMB messages will NOT be signed.\n",
      "2021-02-23 20:10:39,776 - SMB.SMBConnection - INFO - Authentication (on SMB2) successful!\n"
     ]
    },
    {
     "name": "stderr",
     "output_type": "stream",
     "text": [
      "\r",
      " 32%|███▏      | 32/100 [00:41<01:23,  1.23s/it]"
     ]
    },
    {
     "name": "stdout",
     "output_type": "stream",
     "text": [
      "2021-02-23 20:10:40,728 - SMB.SMBConnection - INFO - Authentication with remote machine \"//10.1.1.52/\" for user \"rodrigo_cunha\" will be using NTLM v2 authentication (with extended security)\n",
      "2021-02-23 20:10:40,874 - SMB.SMBConnection - INFO - Now switching over to SMB2 protocol communication\n",
      "2021-02-23 20:10:40,875 - SMB.SMBConnection - INFO - SMB2 dialect negotiation successful\n",
      "2021-02-23 20:10:40,941 - SMB.SMBConnection - INFO - Performing NTLMv2 authentication (on SMB2) with server challenge \"b'9152d72402503d75'\"\n",
      "2021-02-23 20:10:40,942 - SMB.SMBConnection - INFO - Performing NTLMv2 authentication (on SMB2) with server challenge \"b'9152d72402503d75'\"\n",
      "2021-02-23 20:10:40,944 - SMB.SMBConnection - INFO - Server supports SMB signing\n",
      "2021-02-23 20:10:40,945 - SMB.SMBConnection - INFO - SMB signing deactivated. SMB messages will NOT be signed.\n",
      "2021-02-23 20:10:41,013 - SMB.SMBConnection - INFO - Authentication (on SMB2) successful!\n"
     ]
    },
    {
     "name": "stderr",
     "output_type": "stream",
     "text": [
      "\r",
      " 33%|███▎      | 33/100 [00:43<01:23,  1.24s/it]"
     ]
    },
    {
     "name": "stdout",
     "output_type": "stream",
     "text": [
      "2021-02-23 20:10:42,008 - SMB.SMBConnection - INFO - Authentication with remote machine \"//10.1.1.52/\" for user \"rodrigo_cunha\" will be using NTLM v2 authentication (with extended security)\n",
      "2021-02-23 20:10:42,123 - SMB.SMBConnection - INFO - Now switching over to SMB2 protocol communication\n",
      "2021-02-23 20:10:42,130 - SMB.SMBConnection - INFO - SMB2 dialect negotiation successful\n",
      "2021-02-23 20:10:42,191 - SMB.SMBConnection - INFO - Performing NTLMv2 authentication (on SMB2) with server challenge \"b'5005cca0d048d2b9'\"\n",
      "2021-02-23 20:10:42,198 - SMB.SMBConnection - INFO - Performing NTLMv2 authentication (on SMB2) with server challenge \"b'5005cca0d048d2b9'\"\n",
      "2021-02-23 20:10:42,202 - SMB.SMBConnection - INFO - Server supports SMB signing\n",
      "2021-02-23 20:10:42,212 - SMB.SMBConnection - INFO - SMB signing deactivated. SMB messages will NOT be signed.\n",
      "2021-02-23 20:10:42,265 - SMB.SMBConnection - INFO - Authentication (on SMB2) successful!\n"
     ]
    },
    {
     "name": "stderr",
     "output_type": "stream",
     "text": [
      "\r",
      " 34%|███▍      | 34/100 [00:44<01:22,  1.25s/it]"
     ]
    },
    {
     "name": "stdout",
     "output_type": "stream",
     "text": [
      "2021-02-23 20:10:43,272 - SMB.SMBConnection - INFO - Authentication with remote machine \"//10.1.1.52/\" for user \"rodrigo_cunha\" will be using NTLM v2 authentication (with extended security)\n",
      "2021-02-23 20:10:43,423 - SMB.SMBConnection - INFO - Now switching over to SMB2 protocol communication\n",
      "2021-02-23 20:10:43,427 - SMB.SMBConnection - INFO - SMB2 dialect negotiation successful\n",
      "2021-02-23 20:10:43,487 - SMB.SMBConnection - INFO - Performing NTLMv2 authentication (on SMB2) with server challenge \"b'0866d4fd31be6317'\"\n",
      "2021-02-23 20:10:43,494 - SMB.SMBConnection - INFO - Performing NTLMv2 authentication (on SMB2) with server challenge \"b'0866d4fd31be6317'\"\n",
      "2021-02-23 20:10:43,499 - SMB.SMBConnection - INFO - Server supports SMB signing\n",
      "2021-02-23 20:10:43,503 - SMB.SMBConnection - INFO - SMB signing deactivated. SMB messages will NOT be signed.\n",
      "2021-02-23 20:10:43,554 - SMB.SMBConnection - INFO - Authentication (on SMB2) successful!\n"
     ]
    },
    {
     "name": "stderr",
     "output_type": "stream",
     "text": [
      "\r",
      " 35%|███▌      | 35/100 [00:45<01:20,  1.24s/it]"
     ]
    },
    {
     "name": "stdout",
     "output_type": "stream",
     "text": [
      "2021-02-23 20:10:44,476 - SMB.SMBConnection - INFO - Authentication with remote machine \"//10.1.1.52/\" for user \"rodrigo_cunha\" will be using NTLM v2 authentication (with extended security)\n",
      "2021-02-23 20:10:44,602 - SMB.SMBConnection - INFO - Now switching over to SMB2 protocol communication\n",
      "2021-02-23 20:10:44,609 - SMB.SMBConnection - INFO - SMB2 dialect negotiation successful\n",
      "2021-02-23 20:10:44,668 - SMB.SMBConnection - INFO - Performing NTLMv2 authentication (on SMB2) with server challenge \"b'caec06ead6f54e2e'\"\n",
      "2021-02-23 20:10:44,673 - SMB.SMBConnection - INFO - Performing NTLMv2 authentication (on SMB2) with server challenge \"b'caec06ead6f54e2e'\"\n",
      "2021-02-23 20:10:44,676 - SMB.SMBConnection - INFO - Server supports SMB signing\n",
      "2021-02-23 20:10:44,677 - SMB.SMBConnection - INFO - SMB signing deactivated. SMB messages will NOT be signed.\n",
      "2021-02-23 20:10:44,733 - SMB.SMBConnection - INFO - Authentication (on SMB2) successful!\n"
     ]
    },
    {
     "name": "stderr",
     "output_type": "stream",
     "text": [
      "\r",
      " 36%|███▌      | 36/100 [00:46<01:19,  1.24s/it]"
     ]
    },
    {
     "name": "stdout",
     "output_type": "stream",
     "text": [
      "2021-02-23 20:10:45,712 - SMB.SMBConnection - INFO - Authentication with remote machine \"//10.1.1.52/\" for user \"rodrigo_cunha\" will be using NTLM v2 authentication (with extended security)\n",
      "2021-02-23 20:10:45,862 - SMB.SMBConnection - INFO - Now switching over to SMB2 protocol communication\n",
      "2021-02-23 20:10:45,864 - SMB.SMBConnection - INFO - SMB2 dialect negotiation successful\n",
      "2021-02-23 20:10:45,931 - SMB.SMBConnection - INFO - Performing NTLMv2 authentication (on SMB2) with server challenge \"b'534273d92049103f'\"\n",
      "2021-02-23 20:10:45,932 - SMB.SMBConnection - INFO - Performing NTLMv2 authentication (on SMB2) with server challenge \"b'534273d92049103f'\"\n",
      "2021-02-23 20:10:45,935 - SMB.SMBConnection - INFO - Server supports SMB signing\n",
      "2021-02-23 20:10:45,936 - SMB.SMBConnection - INFO - SMB signing deactivated. SMB messages will NOT be signed.\n",
      "2021-02-23 20:10:46,001 - SMB.SMBConnection - INFO - Authentication (on SMB2) successful!\n"
     ]
    },
    {
     "name": "stderr",
     "output_type": "stream",
     "text": [
      "\r",
      " 37%|███▋      | 37/100 [00:47<01:15,  1.20s/it]"
     ]
    },
    {
     "name": "stdout",
     "output_type": "stream",
     "text": [
      "2021-02-23 20:10:46,828 - SMB.SMBConnection - INFO - Authentication with remote machine \"//10.1.1.52/\" for user \"rodrigo_cunha\" will be using NTLM v2 authentication (with extended security)\n",
      "2021-02-23 20:10:46,971 - SMB.SMBConnection - INFO - Now switching over to SMB2 protocol communication\n",
      "2021-02-23 20:10:46,973 - SMB.SMBConnection - INFO - SMB2 dialect negotiation successful\n",
      "2021-02-23 20:10:47,038 - SMB.SMBConnection - INFO - Performing NTLMv2 authentication (on SMB2) with server challenge \"b'522a63ee5ce91331'\"\n",
      "2021-02-23 20:10:47,042 - SMB.SMBConnection - INFO - Performing NTLMv2 authentication (on SMB2) with server challenge \"b'522a63ee5ce91331'\"\n",
      "2021-02-23 20:10:47,045 - SMB.SMBConnection - INFO - Server supports SMB signing\n",
      "2021-02-23 20:10:47,046 - SMB.SMBConnection - INFO - SMB signing deactivated. SMB messages will NOT be signed.\n",
      "2021-02-23 20:10:47,125 - SMB.SMBConnection - INFO - Authentication (on SMB2) successful!\n"
     ]
    },
    {
     "name": "stderr",
     "output_type": "stream",
     "text": [
      "\r",
      " 38%|███▊      | 38/100 [00:49<01:15,  1.21s/it]"
     ]
    },
    {
     "name": "stdout",
     "output_type": "stream",
     "text": [
      "2021-02-23 20:10:48,070 - SMB.SMBConnection - INFO - Authentication with remote machine \"//10.1.1.52/\" for user \"rodrigo_cunha\" will be using NTLM v2 authentication (with extended security)\n",
      "2021-02-23 20:10:48,182 - SMB.SMBConnection - INFO - Now switching over to SMB2 protocol communication\n",
      "2021-02-23 20:10:48,183 - SMB.SMBConnection - INFO - SMB2 dialect negotiation successful\n",
      "2021-02-23 20:10:48,248 - SMB.SMBConnection - INFO - Performing NTLMv2 authentication (on SMB2) with server challenge \"b'1773324640da8238'\"\n",
      "2021-02-23 20:10:48,249 - SMB.SMBConnection - INFO - Performing NTLMv2 authentication (on SMB2) with server challenge \"b'1773324640da8238'\"\n",
      "2021-02-23 20:10:48,251 - SMB.SMBConnection - INFO - Server supports SMB signing\n",
      "2021-02-23 20:10:48,252 - SMB.SMBConnection - INFO - SMB signing deactivated. SMB messages will NOT be signed.\n",
      "2021-02-23 20:10:48,312 - SMB.SMBConnection - INFO - Authentication (on SMB2) successful!\n"
     ]
    },
    {
     "name": "stderr",
     "output_type": "stream",
     "text": [
      "\r",
      " 39%|███▉      | 39/100 [00:50<01:11,  1.17s/it]"
     ]
    },
    {
     "name": "stdout",
     "output_type": "stream",
     "text": [
      "2021-02-23 20:10:49,135 - SMB.SMBConnection - INFO - Authentication with remote machine \"//10.1.1.52/\" for user \"rodrigo_cunha\" will be using NTLM v2 authentication (with extended security)\n",
      "2021-02-23 20:10:49,274 - SMB.SMBConnection - INFO - Now switching over to SMB2 protocol communication\n",
      "2021-02-23 20:10:49,275 - SMB.SMBConnection - INFO - SMB2 dialect negotiation successful\n",
      "2021-02-23 20:10:49,343 - SMB.SMBConnection - INFO - Performing NTLMv2 authentication (on SMB2) with server challenge \"b'0ef3c380998bf8d0'\"\n",
      "2021-02-23 20:10:49,344 - SMB.SMBConnection - INFO - Performing NTLMv2 authentication (on SMB2) with server challenge \"b'0ef3c380998bf8d0'\"\n",
      "2021-02-23 20:10:49,346 - SMB.SMBConnection - INFO - Server supports SMB signing\n",
      "2021-02-23 20:10:49,347 - SMB.SMBConnection - INFO - SMB signing deactivated. SMB messages will NOT be signed.\n",
      "2021-02-23 20:10:49,425 - SMB.SMBConnection - INFO - Authentication (on SMB2) successful!\n"
     ]
    },
    {
     "name": "stderr",
     "output_type": "stream",
     "text": [
      "\r",
      " 40%|████      | 40/100 [00:51<01:09,  1.16s/it]"
     ]
    },
    {
     "name": "stdout",
     "output_type": "stream",
     "text": [
      "2021-02-23 20:10:50,274 - SMB.SMBConnection - INFO - Authentication with remote machine \"//10.1.1.52/\" for user \"rodrigo_cunha\" will be using NTLM v2 authentication (with extended security)\n",
      "2021-02-23 20:10:50,373 - SMB.SMBConnection - INFO - Now switching over to SMB2 protocol communication\n",
      "2021-02-23 20:10:50,377 - SMB.SMBConnection - INFO - SMB2 dialect negotiation successful\n",
      "2021-02-23 20:10:50,451 - SMB.SMBConnection - INFO - Performing NTLMv2 authentication (on SMB2) with server challenge \"b'49977fcf0785f88c'\"\n",
      "2021-02-23 20:10:50,451 - SMB.SMBConnection - INFO - Performing NTLMv2 authentication (on SMB2) with server challenge \"b'49977fcf0785f88c'\"\n",
      "2021-02-23 20:10:50,453 - SMB.SMBConnection - INFO - Server supports SMB signing\n",
      "2021-02-23 20:10:50,454 - SMB.SMBConnection - INFO - SMB signing deactivated. SMB messages will NOT be signed.\n",
      "2021-02-23 20:10:50,517 - SMB.SMBConnection - INFO - Authentication (on SMB2) successful!\n"
     ]
    },
    {
     "name": "stderr",
     "output_type": "stream",
     "text": [
      "\r",
      " 41%|████      | 41/100 [00:52<01:04,  1.10s/it]"
     ]
    },
    {
     "name": "stdout",
     "output_type": "stream",
     "text": [
      "2021-02-23 20:10:51,238 - SMB.SMBConnection - INFO - Authentication with remote machine \"//10.1.1.52/\" for user \"rodrigo_cunha\" will be using NTLM v2 authentication (with extended security)\n",
      "2021-02-23 20:10:51,407 - SMB.SMBConnection - INFO - Now switching over to SMB2 protocol communication\n",
      "2021-02-23 20:10:51,408 - SMB.SMBConnection - INFO - SMB2 dialect negotiation successful\n",
      "2021-02-23 20:10:51,471 - SMB.SMBConnection - INFO - Performing NTLMv2 authentication (on SMB2) with server challenge \"b'e7f493fe39fbd032'\"\n",
      "2021-02-23 20:10:51,472 - SMB.SMBConnection - INFO - Performing NTLMv2 authentication (on SMB2) with server challenge \"b'e7f493fe39fbd032'\"\n",
      "2021-02-23 20:10:51,474 - SMB.SMBConnection - INFO - Server supports SMB signing\n",
      "2021-02-23 20:10:51,476 - SMB.SMBConnection - INFO - SMB signing deactivated. SMB messages will NOT be signed.\n",
      "2021-02-23 20:10:51,545 - SMB.SMBConnection - INFO - Authentication (on SMB2) successful!\n"
     ]
    },
    {
     "name": "stderr",
     "output_type": "stream",
     "text": [
      "\r",
      " 42%|████▏     | 42/100 [00:53<01:03,  1.10s/it]"
     ]
    },
    {
     "name": "stdout",
     "output_type": "stream",
     "text": [
      "2021-02-23 20:10:52,325 - SMB.SMBConnection - INFO - Authentication with remote machine \"//10.1.1.52/\" for user \"rodrigo_cunha\" will be using NTLM v2 authentication (with extended security)\n",
      "2021-02-23 20:10:52,462 - SMB.SMBConnection - INFO - Now switching over to SMB2 protocol communication\n",
      "2021-02-23 20:10:52,463 - SMB.SMBConnection - INFO - SMB2 dialect negotiation successful\n",
      "2021-02-23 20:10:52,532 - SMB.SMBConnection - INFO - Performing NTLMv2 authentication (on SMB2) with server challenge \"b'19ca6fa898fc269a'\"\n",
      "2021-02-23 20:10:52,533 - SMB.SMBConnection - INFO - Performing NTLMv2 authentication (on SMB2) with server challenge \"b'19ca6fa898fc269a'\"\n",
      "2021-02-23 20:10:52,535 - SMB.SMBConnection - INFO - Server supports SMB signing\n",
      "2021-02-23 20:10:52,536 - SMB.SMBConnection - INFO - SMB signing deactivated. SMB messages will NOT be signed.\n",
      "2021-02-23 20:10:52,607 - SMB.SMBConnection - INFO - Authentication (on SMB2) successful!\n"
     ]
    },
    {
     "name": "stderr",
     "output_type": "stream",
     "text": [
      "\r",
      " 43%|████▎     | 43/100 [00:54<01:08,  1.19s/it]"
     ]
    },
    {
     "name": "stdout",
     "output_type": "stream",
     "text": [
      "2021-02-23 20:10:53,748 - SMB.SMBConnection - INFO - Authentication with remote machine \"//10.1.1.52/\" for user \"rodrigo_cunha\" will be using NTLM v2 authentication (with extended security)\n",
      "2021-02-23 20:10:53,878 - SMB.SMBConnection - INFO - Now switching over to SMB2 protocol communication\n",
      "2021-02-23 20:10:53,880 - SMB.SMBConnection - INFO - SMB2 dialect negotiation successful\n",
      "2021-02-23 20:10:53,943 - SMB.SMBConnection - INFO - Performing NTLMv2 authentication (on SMB2) with server challenge \"b'cc463c0b93630d82'\"\n",
      "2021-02-23 20:10:53,944 - SMB.SMBConnection - INFO - Performing NTLMv2 authentication (on SMB2) with server challenge \"b'cc463c0b93630d82'\"\n",
      "2021-02-23 20:10:53,947 - SMB.SMBConnection - INFO - Server supports SMB signing\n",
      "2021-02-23 20:10:53,948 - SMB.SMBConnection - INFO - SMB signing deactivated. SMB messages will NOT be signed.\n",
      "2021-02-23 20:10:54,010 - SMB.SMBConnection - INFO - Authentication (on SMB2) successful!\n"
     ]
    },
    {
     "name": "stderr",
     "output_type": "stream",
     "text": [
      "\r",
      " 44%|████▍     | 44/100 [00:56<01:08,  1.22s/it]"
     ]
    },
    {
     "name": "stdout",
     "output_type": "stream",
     "text": [
      "2021-02-23 20:10:55,015 - SMB.SMBConnection - INFO - Authentication with remote machine \"//10.1.1.52/\" for user \"rodrigo_cunha\" will be using NTLM v2 authentication (with extended security)\n",
      "2021-02-23 20:10:55,158 - SMB.SMBConnection - INFO - Now switching over to SMB2 protocol communication\n",
      "2021-02-23 20:10:55,159 - SMB.SMBConnection - INFO - SMB2 dialect negotiation successful\n",
      "2021-02-23 20:10:55,223 - SMB.SMBConnection - INFO - Performing NTLMv2 authentication (on SMB2) with server challenge \"b'd1a2e28408391709'\"\n",
      "2021-02-23 20:10:55,225 - SMB.SMBConnection - INFO - Performing NTLMv2 authentication (on SMB2) with server challenge \"b'd1a2e28408391709'\"\n",
      "2021-02-23 20:10:55,228 - SMB.SMBConnection - INFO - Server supports SMB signing\n",
      "2021-02-23 20:10:55,229 - SMB.SMBConnection - INFO - SMB signing deactivated. SMB messages will NOT be signed.\n",
      "2021-02-23 20:10:55,294 - SMB.SMBConnection - INFO - Authentication (on SMB2) successful!\n"
     ]
    },
    {
     "name": "stderr",
     "output_type": "stream",
     "text": [
      "\r",
      " 45%|████▌     | 45/100 [00:57<01:06,  1.21s/it]"
     ]
    },
    {
     "name": "stdout",
     "output_type": "stream",
     "text": [
      "2021-02-23 20:10:56,224 - SMB.SMBConnection - INFO - Authentication with remote machine \"//10.1.1.52/\" for user \"rodrigo_cunha\" will be using NTLM v2 authentication (with extended security)\n",
      "2021-02-23 20:10:56,360 - SMB.SMBConnection - INFO - Now switching over to SMB2 protocol communication\n",
      "2021-02-23 20:10:56,365 - SMB.SMBConnection - INFO - SMB2 dialect negotiation successful\n",
      "2021-02-23 20:10:56,424 - SMB.SMBConnection - INFO - Performing NTLMv2 authentication (on SMB2) with server challenge \"b'b42f9e0016d5bda4'\"\n",
      "2021-02-23 20:10:56,431 - SMB.SMBConnection - INFO - Performing NTLMv2 authentication (on SMB2) with server challenge \"b'b42f9e0016d5bda4'\"\n",
      "2021-02-23 20:10:56,435 - SMB.SMBConnection - INFO - Server supports SMB signing\n",
      "2021-02-23 20:10:56,437 - SMB.SMBConnection - INFO - SMB signing deactivated. SMB messages will NOT be signed.\n",
      "2021-02-23 20:10:56,490 - SMB.SMBConnection - INFO - Authentication (on SMB2) successful!\n"
     ]
    },
    {
     "name": "stderr",
     "output_type": "stream",
     "text": [
      "\r",
      " 46%|████▌     | 46/100 [00:58<01:10,  1.30s/it]"
     ]
    },
    {
     "name": "stdout",
     "output_type": "stream",
     "text": [
      "2021-02-23 20:10:57,722 - SMB.SMBConnection - INFO - Authentication with remote machine \"//10.1.1.52/\" for user \"rodrigo_cunha\" will be using NTLM v2 authentication (with extended security)\n",
      "2021-02-23 20:10:57,839 - SMB.SMBConnection - INFO - Now switching over to SMB2 protocol communication\n",
      "2021-02-23 20:10:57,842 - SMB.SMBConnection - INFO - SMB2 dialect negotiation successful\n",
      "2021-02-23 20:10:57,912 - SMB.SMBConnection - INFO - Performing NTLMv2 authentication (on SMB2) with server challenge \"b'a9b474975c5c30fe'\"\n",
      "2021-02-23 20:10:57,915 - SMB.SMBConnection - INFO - Performing NTLMv2 authentication (on SMB2) with server challenge \"b'a9b474975c5c30fe'\"\n",
      "2021-02-23 20:10:57,918 - SMB.SMBConnection - INFO - Server supports SMB signing\n",
      "2021-02-23 20:10:57,920 - SMB.SMBConnection - INFO - SMB signing deactivated. SMB messages will NOT be signed.\n",
      "2021-02-23 20:10:57,985 - SMB.SMBConnection - INFO - Authentication (on SMB2) successful!\n"
     ]
    },
    {
     "name": "stderr",
     "output_type": "stream",
     "text": [
      "\r",
      " 47%|████▋     | 47/100 [01:00<01:07,  1.27s/it]"
     ]
    },
    {
     "name": "stdout",
     "output_type": "stream",
     "text": [
      "2021-02-23 20:10:58,911 - SMB.SMBConnection - INFO - Authentication with remote machine \"//10.1.1.52/\" for user \"rodrigo_cunha\" will be using NTLM v2 authentication (with extended security)\n",
      "2021-02-23 20:10:59,011 - SMB.SMBConnection - INFO - Now switching over to SMB2 protocol communication\n",
      "2021-02-23 20:10:59,012 - SMB.SMBConnection - INFO - SMB2 dialect negotiation successful\n",
      "2021-02-23 20:10:59,107 - SMB.SMBConnection - INFO - Performing NTLMv2 authentication (on SMB2) with server challenge \"b'09b5b3fa9cbcdfdf'\"\n",
      "2021-02-23 20:10:59,112 - SMB.SMBConnection - INFO - Performing NTLMv2 authentication (on SMB2) with server challenge \"b'09b5b3fa9cbcdfdf'\"\n",
      "2021-02-23 20:10:59,115 - SMB.SMBConnection - INFO - Server supports SMB signing\n",
      "2021-02-23 20:10:59,117 - SMB.SMBConnection - INFO - SMB signing deactivated. SMB messages will NOT be signed.\n",
      "2021-02-23 20:10:59,173 - SMB.SMBConnection - INFO - Authentication (on SMB2) successful!\n"
     ]
    },
    {
     "name": "stderr",
     "output_type": "stream",
     "text": [
      "\r",
      " 48%|████▊     | 48/100 [01:01<01:04,  1.25s/it]"
     ]
    },
    {
     "name": "stdout",
     "output_type": "stream",
     "text": [
      "2021-02-23 20:11:00,118 - SMB.SMBConnection - INFO - Authentication with remote machine \"//10.1.1.52/\" for user \"rodrigo_cunha\" will be using NTLM v2 authentication (with extended security)\n",
      "2021-02-23 20:11:00,211 - SMB.SMBConnection - INFO - Now switching over to SMB2 protocol communication\n",
      "2021-02-23 20:11:00,214 - SMB.SMBConnection - INFO - SMB2 dialect negotiation successful\n",
      "2021-02-23 20:11:00,276 - SMB.SMBConnection - INFO - Performing NTLMv2 authentication (on SMB2) with server challenge \"b'646bf5f562ab7ab7'\"\n",
      "2021-02-23 20:11:00,278 - SMB.SMBConnection - INFO - Performing NTLMv2 authentication (on SMB2) with server challenge \"b'646bf5f562ab7ab7'\"\n",
      "2021-02-23 20:11:00,282 - SMB.SMBConnection - INFO - Server supports SMB signing\n",
      "2021-02-23 20:11:00,285 - SMB.SMBConnection - INFO - SMB signing deactivated. SMB messages will NOT be signed.\n",
      "2021-02-23 20:11:00,342 - SMB.SMBConnection - INFO - Authentication (on SMB2) successful!\n"
     ]
    },
    {
     "name": "stderr",
     "output_type": "stream",
     "text": [
      "\r",
      " 49%|████▉     | 49/100 [01:02<01:03,  1.25s/it]"
     ]
    },
    {
     "name": "stdout",
     "output_type": "stream",
     "text": [
      "2021-02-23 20:11:01,378 - SMB.SMBConnection - INFO - Authentication with remote machine \"//10.1.1.52/\" for user \"rodrigo_cunha\" will be using NTLM v2 authentication (with extended security)\n",
      "2021-02-23 20:11:01,524 - SMB.SMBConnection - INFO - Now switching over to SMB2 protocol communication\n",
      "2021-02-23 20:11:01,526 - SMB.SMBConnection - INFO - SMB2 dialect negotiation successful\n",
      "2021-02-23 20:11:01,591 - SMB.SMBConnection - INFO - Performing NTLMv2 authentication (on SMB2) with server challenge \"b'318d77d20f56331b'\"\n",
      "2021-02-23 20:11:01,593 - SMB.SMBConnection - INFO - Performing NTLMv2 authentication (on SMB2) with server challenge \"b'318d77d20f56331b'\"\n",
      "2021-02-23 20:11:01,595 - SMB.SMBConnection - INFO - Server supports SMB signing\n",
      "2021-02-23 20:11:01,596 - SMB.SMBConnection - INFO - SMB signing deactivated. SMB messages will NOT be signed.\n",
      "2021-02-23 20:11:01,658 - SMB.SMBConnection - INFO - Authentication (on SMB2) successful!\n"
     ]
    },
    {
     "name": "stderr",
     "output_type": "stream",
     "text": [
      "\r",
      " 50%|█████     | 50/100 [01:03<01:01,  1.24s/it]"
     ]
    },
    {
     "name": "stdout",
     "output_type": "stream",
     "text": [
      "2021-02-23 20:11:02,574 - SMB.SMBConnection - INFO - Authentication with remote machine \"//10.1.1.52/\" for user \"rodrigo_cunha\" will be using NTLM v2 authentication (with extended security)\n",
      "2021-02-23 20:11:02,672 - SMB.SMBConnection - INFO - Now switching over to SMB2 protocol communication\n",
      "2021-02-23 20:11:02,673 - SMB.SMBConnection - INFO - SMB2 dialect negotiation successful\n",
      "2021-02-23 20:11:02,736 - SMB.SMBConnection - INFO - Performing NTLMv2 authentication (on SMB2) with server challenge \"b'36241611c0ad05e9'\"\n",
      "2021-02-23 20:11:02,737 - SMB.SMBConnection - INFO - Performing NTLMv2 authentication (on SMB2) with server challenge \"b'36241611c0ad05e9'\"\n",
      "2021-02-23 20:11:02,740 - SMB.SMBConnection - INFO - Server supports SMB signing\n",
      "2021-02-23 20:11:02,741 - SMB.SMBConnection - INFO - SMB signing deactivated. SMB messages will NOT be signed.\n",
      "2021-02-23 20:11:02,805 - SMB.SMBConnection - INFO - Authentication (on SMB2) successful!\n"
     ]
    },
    {
     "name": "stderr",
     "output_type": "stream",
     "text": [
      "\r",
      " 51%|█████     | 51/100 [01:05<01:02,  1.27s/it]"
     ]
    },
    {
     "name": "stdout",
     "output_type": "stream",
     "text": [
      "2021-02-23 20:11:03,930 - SMB.SMBConnection - INFO - Authentication with remote machine \"//10.1.1.52/\" for user \"rodrigo_cunha\" will be using NTLM v2 authentication (with extended security)\n",
      "2021-02-23 20:11:04,026 - SMB.SMBConnection - INFO - Now switching over to SMB2 protocol communication\n",
      "2021-02-23 20:11:04,027 - SMB.SMBConnection - INFO - SMB2 dialect negotiation successful\n",
      "2021-02-23 20:11:04,091 - SMB.SMBConnection - INFO - Performing NTLMv2 authentication (on SMB2) with server challenge \"b'267210f59e05a3a7'\"\n",
      "2021-02-23 20:11:04,092 - SMB.SMBConnection - INFO - Performing NTLMv2 authentication (on SMB2) with server challenge \"b'267210f59e05a3a7'\"\n",
      "2021-02-23 20:11:04,096 - SMB.SMBConnection - INFO - Server supports SMB signing\n",
      "2021-02-23 20:11:04,097 - SMB.SMBConnection - INFO - SMB signing deactivated. SMB messages will NOT be signed.\n",
      "2021-02-23 20:11:04,156 - SMB.SMBConnection - INFO - Authentication (on SMB2) successful!\n"
     ]
    },
    {
     "name": "stderr",
     "output_type": "stream",
     "text": [
      "\r",
      " 52%|█████▏    | 52/100 [01:06<00:59,  1.24s/it]"
     ]
    },
    {
     "name": "stdout",
     "output_type": "stream",
     "text": [
      "2021-02-23 20:11:05,104 - SMB.SMBConnection - INFO - Authentication with remote machine \"//10.1.1.52/\" for user \"rodrigo_cunha\" will be using NTLM v2 authentication (with extended security)\n",
      "2021-02-23 20:11:05,255 - SMB.SMBConnection - INFO - Now switching over to SMB2 protocol communication\n",
      "2021-02-23 20:11:05,256 - SMB.SMBConnection - INFO - SMB2 dialect negotiation successful\n",
      "2021-02-23 20:11:05,322 - SMB.SMBConnection - INFO - Performing NTLMv2 authentication (on SMB2) with server challenge \"b'888b145a1353204a'\"\n",
      "2021-02-23 20:11:05,324 - SMB.SMBConnection - INFO - Performing NTLMv2 authentication (on SMB2) with server challenge \"b'888b145a1353204a'\"\n",
      "2021-02-23 20:11:05,327 - SMB.SMBConnection - INFO - Server supports SMB signing\n",
      "2021-02-23 20:11:05,329 - SMB.SMBConnection - INFO - SMB signing deactivated. SMB messages will NOT be signed.\n",
      "2021-02-23 20:11:05,393 - SMB.SMBConnection - INFO - Authentication (on SMB2) successful!\n"
     ]
    },
    {
     "name": "stderr",
     "output_type": "stream",
     "text": [
      "\r",
      " 53%|█████▎    | 53/100 [01:07<00:57,  1.23s/it]"
     ]
    },
    {
     "name": "stdout",
     "output_type": "stream",
     "text": [
      "2021-02-23 20:11:06,297 - SMB.SMBConnection - INFO - Authentication with remote machine \"//10.1.1.52/\" for user \"rodrigo_cunha\" will be using NTLM v2 authentication (with extended security)\n",
      "2021-02-23 20:11:06,442 - SMB.SMBConnection - INFO - Now switching over to SMB2 protocol communication\n",
      "2021-02-23 20:11:06,443 - SMB.SMBConnection - INFO - SMB2 dialect negotiation successful\n",
      "2021-02-23 20:11:06,507 - SMB.SMBConnection - INFO - Performing NTLMv2 authentication (on SMB2) with server challenge \"b'4e09de80c82152d2'\"\n",
      "2021-02-23 20:11:06,509 - SMB.SMBConnection - INFO - Performing NTLMv2 authentication (on SMB2) with server challenge \"b'4e09de80c82152d2'\"\n",
      "2021-02-23 20:11:06,511 - SMB.SMBConnection - INFO - Server supports SMB signing\n",
      "2021-02-23 20:11:06,513 - SMB.SMBConnection - INFO - SMB signing deactivated. SMB messages will NOT be signed.\n",
      "2021-02-23 20:11:06,573 - SMB.SMBConnection - INFO - Authentication (on SMB2) successful!\n"
     ]
    },
    {
     "name": "stderr",
     "output_type": "stream",
     "text": [
      "\r",
      " 54%|█████▍    | 54/100 [01:08<00:58,  1.26s/it]"
     ]
    },
    {
     "name": "stdout",
     "output_type": "stream",
     "text": [
      "2021-02-23 20:11:07,640 - SMB.SMBConnection - INFO - Authentication with remote machine \"//10.1.1.52/\" for user \"rodrigo_cunha\" will be using NTLM v2 authentication (with extended security)\n",
      "2021-02-23 20:11:07,788 - SMB.SMBConnection - INFO - Now switching over to SMB2 protocol communication\n",
      "2021-02-23 20:11:07,789 - SMB.SMBConnection - INFO - SMB2 dialect negotiation successful\n",
      "2021-02-23 20:11:07,851 - SMB.SMBConnection - INFO - Performing NTLMv2 authentication (on SMB2) with server challenge \"b'4dfa95be78c79a99'\"\n",
      "2021-02-23 20:11:07,853 - SMB.SMBConnection - INFO - Performing NTLMv2 authentication (on SMB2) with server challenge \"b'4dfa95be78c79a99'\"\n",
      "2021-02-23 20:11:07,856 - SMB.SMBConnection - INFO - Server supports SMB signing\n",
      "2021-02-23 20:11:07,857 - SMB.SMBConnection - INFO - SMB signing deactivated. SMB messages will NOT be signed.\n",
      "2021-02-23 20:11:07,918 - SMB.SMBConnection - INFO - Authentication (on SMB2) successful!\n"
     ]
    },
    {
     "name": "stderr",
     "output_type": "stream",
     "text": [
      "\r",
      " 55%|█████▌    | 55/100 [01:10<00:56,  1.25s/it]"
     ]
    },
    {
     "name": "stdout",
     "output_type": "stream",
     "text": [
      "2021-02-23 20:11:08,847 - SMB.SMBConnection - INFO - Authentication with remote machine \"//10.1.1.52/\" for user \"rodrigo_cunha\" will be using NTLM v2 authentication (with extended security)\n",
      "2021-02-23 20:11:08,998 - SMB.SMBConnection - INFO - Now switching over to SMB2 protocol communication\n",
      "2021-02-23 20:11:09,000 - SMB.SMBConnection - INFO - SMB2 dialect negotiation successful\n",
      "2021-02-23 20:11:09,063 - SMB.SMBConnection - INFO - Performing NTLMv2 authentication (on SMB2) with server challenge \"b'fc15d3b2b0afb52f'\"\n",
      "2021-02-23 20:11:09,064 - SMB.SMBConnection - INFO - Performing NTLMv2 authentication (on SMB2) with server challenge \"b'fc15d3b2b0afb52f'\"\n",
      "2021-02-23 20:11:09,066 - SMB.SMBConnection - INFO - Server supports SMB signing\n",
      "2021-02-23 20:11:09,068 - SMB.SMBConnection - INFO - SMB signing deactivated. SMB messages will NOT be signed.\n",
      "2021-02-23 20:11:09,138 - SMB.SMBConnection - INFO - Authentication (on SMB2) successful!\n"
     ]
    },
    {
     "name": "stderr",
     "output_type": "stream",
     "text": [
      "\r",
      " 56%|█████▌    | 56/100 [01:11<00:54,  1.24s/it]"
     ]
    },
    {
     "name": "stdout",
     "output_type": "stream",
     "text": [
      "2021-02-23 20:11:10,057 - SMB.SMBConnection - INFO - Authentication with remote machine \"//10.1.1.52/\" for user \"rodrigo_cunha\" will be using NTLM v2 authentication (with extended security)\n",
      "2021-02-23 20:11:10,200 - SMB.SMBConnection - INFO - Now switching over to SMB2 protocol communication\n",
      "2021-02-23 20:11:10,201 - SMB.SMBConnection - INFO - SMB2 dialect negotiation successful\n",
      "2021-02-23 20:11:10,263 - SMB.SMBConnection - INFO - Performing NTLMv2 authentication (on SMB2) with server challenge \"b'20b7c1d05f3f8bd4'\"\n",
      "2021-02-23 20:11:10,264 - SMB.SMBConnection - INFO - Performing NTLMv2 authentication (on SMB2) with server challenge \"b'20b7c1d05f3f8bd4'\"\n",
      "2021-02-23 20:11:10,266 - SMB.SMBConnection - INFO - Server supports SMB signing\n",
      "2021-02-23 20:11:10,268 - SMB.SMBConnection - INFO - SMB signing deactivated. SMB messages will NOT be signed.\n",
      "2021-02-23 20:11:10,335 - SMB.SMBConnection - INFO - Authentication (on SMB2) successful!\n"
     ]
    },
    {
     "name": "stderr",
     "output_type": "stream",
     "text": [
      "\r",
      " 57%|█████▋    | 57/100 [01:12<00:51,  1.21s/it]"
     ]
    },
    {
     "name": "stdout",
     "output_type": "stream",
     "text": [
      "2021-02-23 20:11:11,204 - SMB.SMBConnection - INFO - Authentication with remote machine \"//10.1.1.52/\" for user \"rodrigo_cunha\" will be using NTLM v2 authentication (with extended security)\n",
      "2021-02-23 20:11:11,347 - SMB.SMBConnection - INFO - Now switching over to SMB2 protocol communication\n",
      "2021-02-23 20:11:11,352 - SMB.SMBConnection - INFO - SMB2 dialect negotiation successful\n",
      "2021-02-23 20:11:11,413 - SMB.SMBConnection - INFO - Performing NTLMv2 authentication (on SMB2) with server challenge \"b'89be40e96f4251c3'\"\n",
      "2021-02-23 20:11:11,414 - SMB.SMBConnection - INFO - Performing NTLMv2 authentication (on SMB2) with server challenge \"b'89be40e96f4251c3'\"\n",
      "2021-02-23 20:11:11,416 - SMB.SMBConnection - INFO - Server supports SMB signing\n",
      "2021-02-23 20:11:11,419 - SMB.SMBConnection - INFO - SMB signing deactivated. SMB messages will NOT be signed.\n",
      "2021-02-23 20:11:11,481 - SMB.SMBConnection - INFO - Authentication (on SMB2) successful!\n"
     ]
    },
    {
     "name": "stderr",
     "output_type": "stream",
     "text": [
      "\r",
      " 58%|█████▊    | 58/100 [01:13<00:49,  1.18s/it]"
     ]
    },
    {
     "name": "stdout",
     "output_type": "stream",
     "text": [
      "2021-02-23 20:11:12,317 - SMB.SMBConnection - INFO - Authentication with remote machine \"//10.1.1.52/\" for user \"rodrigo_cunha\" will be using NTLM v2 authentication (with extended security)\n",
      "2021-02-23 20:11:12,455 - SMB.SMBConnection - INFO - Now switching over to SMB2 protocol communication\n",
      "2021-02-23 20:11:12,458 - SMB.SMBConnection - INFO - SMB2 dialect negotiation successful\n",
      "2021-02-23 20:11:12,519 - SMB.SMBConnection - INFO - Performing NTLMv2 authentication (on SMB2) with server challenge \"b'4d6ae68e31d6d835'\"\n",
      "2021-02-23 20:11:12,520 - SMB.SMBConnection - INFO - Performing NTLMv2 authentication (on SMB2) with server challenge \"b'4d6ae68e31d6d835'\"\n",
      "2021-02-23 20:11:12,523 - SMB.SMBConnection - INFO - Server supports SMB signing\n",
      "2021-02-23 20:11:12,524 - SMB.SMBConnection - INFO - SMB signing deactivated. SMB messages will NOT be signed.\n",
      "2021-02-23 20:11:12,589 - SMB.SMBConnection - INFO - Authentication (on SMB2) successful!\n"
     ]
    },
    {
     "name": "stderr",
     "output_type": "stream",
     "text": [
      "\r",
      " 59%|█████▉    | 59/100 [01:14<00:49,  1.21s/it]"
     ]
    },
    {
     "name": "stdout",
     "output_type": "stream",
     "text": [
      "2021-02-23 20:11:13,583 - SMB.SMBConnection - INFO - Authentication with remote machine \"//10.1.1.52/\" for user \"rodrigo_cunha\" will be using NTLM v2 authentication (with extended security)\n",
      "2021-02-23 20:11:13,727 - SMB.SMBConnection - INFO - Now switching over to SMB2 protocol communication\n",
      "2021-02-23 20:11:13,729 - SMB.SMBConnection - INFO - SMB2 dialect negotiation successful\n",
      "2021-02-23 20:11:13,796 - SMB.SMBConnection - INFO - Performing NTLMv2 authentication (on SMB2) with server challenge \"b'90078014cf7e0b94'\"\n",
      "2021-02-23 20:11:13,797 - SMB.SMBConnection - INFO - Performing NTLMv2 authentication (on SMB2) with server challenge \"b'90078014cf7e0b94'\"\n",
      "2021-02-23 20:11:13,799 - SMB.SMBConnection - INFO - Server supports SMB signing\n",
      "2021-02-23 20:11:13,801 - SMB.SMBConnection - INFO - SMB signing deactivated. SMB messages will NOT be signed.\n",
      "2021-02-23 20:11:13,861 - SMB.SMBConnection - INFO - Authentication (on SMB2) successful!\n"
     ]
    },
    {
     "name": "stderr",
     "output_type": "stream",
     "text": [
      "\r",
      " 60%|██████    | 60/100 [01:15<00:48,  1.21s/it]"
     ]
    },
    {
     "name": "stdout",
     "output_type": "stream",
     "text": [
      "2021-02-23 20:11:14,788 - SMB.SMBConnection - INFO - Authentication with remote machine \"//10.1.1.52/\" for user \"rodrigo_cunha\" will be using NTLM v2 authentication (with extended security)\n",
      "2021-02-23 20:11:14,889 - SMB.SMBConnection - INFO - Now switching over to SMB2 protocol communication\n",
      "2021-02-23 20:11:14,890 - SMB.SMBConnection - INFO - SMB2 dialect negotiation successful\n",
      "2021-02-23 20:11:14,957 - SMB.SMBConnection - INFO - Performing NTLMv2 authentication (on SMB2) with server challenge \"b'c197be11496819d5'\"\n",
      "2021-02-23 20:11:14,958 - SMB.SMBConnection - INFO - Performing NTLMv2 authentication (on SMB2) with server challenge \"b'c197be11496819d5'\"\n",
      "2021-02-23 20:11:14,961 - SMB.SMBConnection - INFO - Server supports SMB signing\n",
      "2021-02-23 20:11:14,962 - SMB.SMBConnection - INFO - SMB signing deactivated. SMB messages will NOT be signed.\n",
      "2021-02-23 20:11:15,027 - SMB.SMBConnection - INFO - Authentication (on SMB2) successful!\n"
     ]
    },
    {
     "name": "stderr",
     "output_type": "stream",
     "text": [
      "\r",
      " 61%|██████    | 61/100 [01:17<00:45,  1.18s/it]"
     ]
    },
    {
     "name": "stdout",
     "output_type": "stream",
     "text": [
      "2021-02-23 20:11:15,901 - SMB.SMBConnection - INFO - Authentication with remote machine \"//10.1.1.52/\" for user \"rodrigo_cunha\" will be using NTLM v2 authentication (with extended security)\n",
      "2021-02-23 20:11:16,048 - SMB.SMBConnection - INFO - Now switching over to SMB2 protocol communication\n",
      "2021-02-23 20:11:16,050 - SMB.SMBConnection - INFO - SMB2 dialect negotiation successful\n",
      "2021-02-23 20:11:16,112 - SMB.SMBConnection - INFO - Performing NTLMv2 authentication (on SMB2) with server challenge \"b'54c0d268cd7511b8'\"\n",
      "2021-02-23 20:11:16,113 - SMB.SMBConnection - INFO - Performing NTLMv2 authentication (on SMB2) with server challenge \"b'54c0d268cd7511b8'\"\n",
      "2021-02-23 20:11:16,115 - SMB.SMBConnection - INFO - Server supports SMB signing\n",
      "2021-02-23 20:11:16,116 - SMB.SMBConnection - INFO - SMB signing deactivated. SMB messages will NOT be signed.\n",
      "2021-02-23 20:11:16,178 - SMB.SMBConnection - INFO - Authentication (on SMB2) successful!\n"
     ]
    },
    {
     "name": "stderr",
     "output_type": "stream",
     "text": [
      "\r",
      " 62%|██████▏   | 62/100 [01:18<00:45,  1.19s/it]"
     ]
    },
    {
     "name": "stdout",
     "output_type": "stream",
     "text": [
      "2021-02-23 20:11:17,113 - SMB.SMBConnection - INFO - Authentication with remote machine \"//10.1.1.52/\" for user \"rodrigo_cunha\" will be using NTLM v2 authentication (with extended security)\n",
      "2021-02-23 20:11:17,248 - SMB.SMBConnection - INFO - Now switching over to SMB2 protocol communication\n",
      "2021-02-23 20:11:17,249 - SMB.SMBConnection - INFO - SMB2 dialect negotiation successful\n",
      "2021-02-23 20:11:17,315 - SMB.SMBConnection - INFO - Performing NTLMv2 authentication (on SMB2) with server challenge \"b'2f67497d713ef612'\"\n",
      "2021-02-23 20:11:17,317 - SMB.SMBConnection - INFO - Performing NTLMv2 authentication (on SMB2) with server challenge \"b'2f67497d713ef612'\"\n",
      "2021-02-23 20:11:17,319 - SMB.SMBConnection - INFO - Server supports SMB signing\n",
      "2021-02-23 20:11:17,321 - SMB.SMBConnection - INFO - SMB signing deactivated. SMB messages will NOT be signed.\n",
      "2021-02-23 20:11:17,382 - SMB.SMBConnection - INFO - Authentication (on SMB2) successful!\n"
     ]
    },
    {
     "name": "stderr",
     "output_type": "stream",
     "text": [
      "\r",
      " 63%|██████▎   | 63/100 [01:19<00:45,  1.23s/it]"
     ]
    },
    {
     "name": "stdout",
     "output_type": "stream",
     "text": [
      "2021-02-23 20:11:18,451 - SMB.SMBConnection - INFO - Authentication with remote machine \"//10.1.1.52/\" for user \"rodrigo_cunha\" will be using NTLM v2 authentication (with extended security)\n",
      "2021-02-23 20:11:18,517 - SMB.SMBConnection - INFO - Now switching over to SMB2 protocol communication\n",
      "2021-02-23 20:11:18,518 - SMB.SMBConnection - INFO - SMB2 dialect negotiation successful\n",
      "2021-02-23 20:11:18,583 - SMB.SMBConnection - INFO - Performing NTLMv2 authentication (on SMB2) with server challenge \"b'1bdf431ffdfb9cd3'\"\n",
      "2021-02-23 20:11:18,585 - SMB.SMBConnection - INFO - Performing NTLMv2 authentication (on SMB2) with server challenge \"b'1bdf431ffdfb9cd3'\"\n",
      "2021-02-23 20:11:18,588 - SMB.SMBConnection - INFO - Server supports SMB signing\n",
      "2021-02-23 20:11:18,589 - SMB.SMBConnection - INFO - SMB signing deactivated. SMB messages will NOT be signed.\n",
      "2021-02-23 20:11:18,653 - SMB.SMBConnection - INFO - Authentication (on SMB2) successful!\n"
     ]
    },
    {
     "name": "stderr",
     "output_type": "stream",
     "text": [
      "\r",
      " 64%|██████▍   | 64/100 [01:20<00:42,  1.17s/it]"
     ]
    },
    {
     "name": "stdout",
     "output_type": "stream",
     "text": [
      "2021-02-23 20:11:19,476 - SMB.SMBConnection - INFO - Authentication with remote machine \"//10.1.1.52/\" for user \"rodrigo_cunha\" will be using NTLM v2 authentication (with extended security)\n",
      "2021-02-23 20:11:19,615 - SMB.SMBConnection - INFO - Now switching over to SMB2 protocol communication\n",
      "2021-02-23 20:11:19,619 - SMB.SMBConnection - INFO - SMB2 dialect negotiation successful\n",
      "2021-02-23 20:11:19,685 - SMB.SMBConnection - INFO - Performing NTLMv2 authentication (on SMB2) with server challenge \"b'd7d88927d65094af'\"\n",
      "2021-02-23 20:11:19,691 - SMB.SMBConnection - INFO - Performing NTLMv2 authentication (on SMB2) with server challenge \"b'd7d88927d65094af'\"\n",
      "2021-02-23 20:11:19,695 - SMB.SMBConnection - INFO - Server supports SMB signing\n",
      "2021-02-23 20:11:19,697 - SMB.SMBConnection - INFO - SMB signing deactivated. SMB messages will NOT be signed.\n",
      "2021-02-23 20:11:19,762 - SMB.SMBConnection - INFO - Authentication (on SMB2) successful!\n"
     ]
    },
    {
     "name": "stderr",
     "output_type": "stream",
     "text": [
      "\r",
      " 65%|██████▌   | 65/100 [01:21<00:40,  1.16s/it]"
     ]
    },
    {
     "name": "stdout",
     "output_type": "stream",
     "text": [
      "2021-02-23 20:11:20,620 - SMB.SMBConnection - INFO - Authentication with remote machine \"//10.1.1.52/\" for user \"rodrigo_cunha\" will be using NTLM v2 authentication (with extended security)\n",
      "2021-02-23 20:11:20,712 - SMB.SMBConnection - INFO - Now switching over to SMB2 protocol communication\n",
      "2021-02-23 20:11:20,714 - SMB.SMBConnection - INFO - SMB2 dialect negotiation successful\n",
      "2021-02-23 20:11:20,777 - SMB.SMBConnection - INFO - Performing NTLMv2 authentication (on SMB2) with server challenge \"b'e2cc6c3ddea8573d'\"\n",
      "2021-02-23 20:11:20,778 - SMB.SMBConnection - INFO - Performing NTLMv2 authentication (on SMB2) with server challenge \"b'e2cc6c3ddea8573d'\"\n",
      "2021-02-23 20:11:20,781 - SMB.SMBConnection - INFO - Server supports SMB signing\n",
      "2021-02-23 20:11:20,782 - SMB.SMBConnection - INFO - SMB signing deactivated. SMB messages will NOT be signed.\n",
      "2021-02-23 20:11:20,846 - SMB.SMBConnection - INFO - Authentication (on SMB2) successful!\n"
     ]
    },
    {
     "name": "stderr",
     "output_type": "stream",
     "text": [
      "\r",
      " 66%|██████▌   | 66/100 [01:22<00:39,  1.16s/it]"
     ]
    },
    {
     "name": "stdout",
     "output_type": "stream",
     "text": [
      "2021-02-23 20:11:21,785 - SMB.SMBConnection - INFO - Authentication with remote machine \"//10.1.1.52/\" for user \"rodrigo_cunha\" will be using NTLM v2 authentication (with extended security)\n",
      "2021-02-23 20:11:21,887 - SMB.SMBConnection - INFO - Now switching over to SMB2 protocol communication\n",
      "2021-02-23 20:11:21,889 - SMB.SMBConnection - INFO - SMB2 dialect negotiation successful\n",
      "2021-02-23 20:11:21,953 - SMB.SMBConnection - INFO - Performing NTLMv2 authentication (on SMB2) with server challenge \"b'6946c0c788a54f39'\"\n",
      "2021-02-23 20:11:21,956 - SMB.SMBConnection - INFO - Performing NTLMv2 authentication (on SMB2) with server challenge \"b'6946c0c788a54f39'\"\n",
      "2021-02-23 20:11:21,960 - SMB.SMBConnection - INFO - Server supports SMB signing\n",
      "2021-02-23 20:11:21,962 - SMB.SMBConnection - INFO - SMB signing deactivated. SMB messages will NOT be signed.\n",
      "2021-02-23 20:11:22,020 - SMB.SMBConnection - INFO - Authentication (on SMB2) successful!\n"
     ]
    },
    {
     "name": "stderr",
     "output_type": "stream",
     "text": [
      "\r",
      " 67%|██████▋   | 67/100 [01:24<00:38,  1.16s/it]"
     ]
    },
    {
     "name": "stdout",
     "output_type": "stream",
     "text": [
      "2021-02-23 20:11:22,951 - SMB.SMBConnection - INFO - Authentication with remote machine \"//10.1.1.52/\" for user \"rodrigo_cunha\" will be using NTLM v2 authentication (with extended security)\n",
      "2021-02-23 20:11:23,093 - SMB.SMBConnection - INFO - Now switching over to SMB2 protocol communication\n",
      "2021-02-23 20:11:23,094 - SMB.SMBConnection - INFO - SMB2 dialect negotiation successful\n",
      "2021-02-23 20:11:23,160 - SMB.SMBConnection - INFO - Performing NTLMv2 authentication (on SMB2) with server challenge \"b'f47d74fa7c10053f'\"\n",
      "2021-02-23 20:11:23,161 - SMB.SMBConnection - INFO - Performing NTLMv2 authentication (on SMB2) with server challenge \"b'f47d74fa7c10053f'\"\n",
      "2021-02-23 20:11:23,164 - SMB.SMBConnection - INFO - Server supports SMB signing\n",
      "2021-02-23 20:11:23,166 - SMB.SMBConnection - INFO - SMB signing deactivated. SMB messages will NOT be signed.\n",
      "2021-02-23 20:11:23,225 - SMB.SMBConnection - INFO - Authentication (on SMB2) successful!\n"
     ]
    },
    {
     "name": "stderr",
     "output_type": "stream",
     "text": [
      "\r",
      " 68%|██████▊   | 68/100 [01:25<00:37,  1.17s/it]"
     ]
    },
    {
     "name": "stdout",
     "output_type": "stream",
     "text": [
      "2021-02-23 20:11:24,144 - SMB.SMBConnection - INFO - Authentication with remote machine \"//10.1.1.52/\" for user \"rodrigo_cunha\" will be using NTLM v2 authentication (with extended security)\n",
      "2021-02-23 20:11:24,290 - SMB.SMBConnection - INFO - Now switching over to SMB2 protocol communication\n",
      "2021-02-23 20:11:24,293 - SMB.SMBConnection - INFO - SMB2 dialect negotiation successful\n",
      "2021-02-23 20:11:24,358 - SMB.SMBConnection - INFO - Performing NTLMv2 authentication (on SMB2) with server challenge \"b'834edad501370f72'\"\n",
      "2021-02-23 20:11:24,361 - SMB.SMBConnection - INFO - Performing NTLMv2 authentication (on SMB2) with server challenge \"b'834edad501370f72'\"\n",
      "2021-02-23 20:11:24,368 - SMB.SMBConnection - INFO - Server supports SMB signing\n",
      "2021-02-23 20:11:24,370 - SMB.SMBConnection - INFO - SMB signing deactivated. SMB messages will NOT be signed.\n",
      "2021-02-23 20:11:24,428 - SMB.SMBConnection - INFO - Authentication (on SMB2) successful!\n"
     ]
    },
    {
     "name": "stderr",
     "output_type": "stream",
     "text": [
      "\r",
      " 69%|██████▉   | 69/100 [01:26<00:37,  1.22s/it]"
     ]
    },
    {
     "name": "stdout",
     "output_type": "stream",
     "text": [
      "2021-02-23 20:11:25,469 - SMB.SMBConnection - INFO - Authentication with remote machine \"//10.1.1.52/\" for user \"rodrigo_cunha\" will be using NTLM v2 authentication (with extended security)\n",
      "2021-02-23 20:11:25,619 - SMB.SMBConnection - INFO - Now switching over to SMB2 protocol communication\n",
      "2021-02-23 20:11:25,620 - SMB.SMBConnection - INFO - SMB2 dialect negotiation successful\n",
      "2021-02-23 20:11:25,692 - SMB.SMBConnection - INFO - Performing NTLMv2 authentication (on SMB2) with server challenge \"b'd993f942e739d791'\"\n",
      "2021-02-23 20:11:25,693 - SMB.SMBConnection - INFO - Performing NTLMv2 authentication (on SMB2) with server challenge \"b'd993f942e739d791'\"\n",
      "2021-02-23 20:11:25,697 - SMB.SMBConnection - INFO - Server supports SMB signing\n",
      "2021-02-23 20:11:25,698 - SMB.SMBConnection - INFO - SMB signing deactivated. SMB messages will NOT be signed.\n",
      "2021-02-23 20:11:25,761 - SMB.SMBConnection - INFO - Authentication (on SMB2) successful!\n"
     ]
    },
    {
     "name": "stderr",
     "output_type": "stream",
     "text": [
      "\r",
      " 70%|███████   | 70/100 [01:27<00:36,  1.23s/it]"
     ]
    },
    {
     "name": "stdout",
     "output_type": "stream",
     "text": [
      "2021-02-23 20:11:26,712 - SMB.SMBConnection - INFO - Authentication with remote machine \"//10.1.1.52/\" for user \"rodrigo_cunha\" will be using NTLM v2 authentication (with extended security)\n",
      "2021-02-23 20:11:26,851 - SMB.SMBConnection - INFO - Now switching over to SMB2 protocol communication\n",
      "2021-02-23 20:11:26,852 - SMB.SMBConnection - INFO - SMB2 dialect negotiation successful\n",
      "2021-02-23 20:11:26,927 - SMB.SMBConnection - INFO - Performing NTLMv2 authentication (on SMB2) with server challenge \"b'0ba566c25845dd2d'\"\n",
      "2021-02-23 20:11:26,929 - SMB.SMBConnection - INFO - Performing NTLMv2 authentication (on SMB2) with server challenge \"b'0ba566c25845dd2d'\"\n",
      "2021-02-23 20:11:26,932 - SMB.SMBConnection - INFO - Server supports SMB signing\n",
      "2021-02-23 20:11:26,933 - SMB.SMBConnection - INFO - SMB signing deactivated. SMB messages will NOT be signed.\n",
      "2021-02-23 20:11:26,999 - SMB.SMBConnection - INFO - Authentication (on SMB2) successful!\n"
     ]
    },
    {
     "name": "stderr",
     "output_type": "stream",
     "text": [
      "\r",
      " 71%|███████   | 71/100 [01:29<00:35,  1.21s/it]"
     ]
    },
    {
     "name": "stdout",
     "output_type": "stream",
     "text": [
      "2021-02-23 20:11:27,885 - SMB.SMBConnection - INFO - Authentication with remote machine \"//10.1.1.52/\" for user \"rodrigo_cunha\" will be using NTLM v2 authentication (with extended security)\n",
      "2021-02-23 20:11:27,954 - SMB.SMBConnection - INFO - Now switching over to SMB2 protocol communication\n",
      "2021-02-23 20:11:27,956 - SMB.SMBConnection - INFO - SMB2 dialect negotiation successful\n",
      "2021-02-23 20:11:28,022 - SMB.SMBConnection - INFO - Performing NTLMv2 authentication (on SMB2) with server challenge \"b'a3d65e09c9ca7b9d'\"\n",
      "2021-02-23 20:11:28,023 - SMB.SMBConnection - INFO - Performing NTLMv2 authentication (on SMB2) with server challenge \"b'a3d65e09c9ca7b9d'\"\n",
      "2021-02-23 20:11:28,026 - SMB.SMBConnection - INFO - Server supports SMB signing\n",
      "2021-02-23 20:11:28,028 - SMB.SMBConnection - INFO - SMB signing deactivated. SMB messages will NOT be signed.\n",
      "2021-02-23 20:11:28,094 - SMB.SMBConnection - INFO - Authentication (on SMB2) successful!\n"
     ]
    },
    {
     "name": "stderr",
     "output_type": "stream",
     "text": [
      "\r",
      " 72%|███████▏  | 72/100 [01:30<00:34,  1.24s/it]"
     ]
    },
    {
     "name": "stdout",
     "output_type": "stream",
     "text": [
      "2021-02-23 20:11:29,205 - SMB.SMBConnection - INFO - Authentication with remote machine \"//10.1.1.52/\" for user \"rodrigo_cunha\" will be using NTLM v2 authentication (with extended security)\n",
      "2021-02-23 20:11:29,345 - SMB.SMBConnection - INFO - Now switching over to SMB2 protocol communication\n",
      "2021-02-23 20:11:29,347 - SMB.SMBConnection - INFO - SMB2 dialect negotiation successful\n",
      "2021-02-23 20:11:29,416 - SMB.SMBConnection - INFO - Performing NTLMv2 authentication (on SMB2) with server challenge \"b'85ee62db6461828d'\"\n",
      "2021-02-23 20:11:29,417 - SMB.SMBConnection - INFO - Performing NTLMv2 authentication (on SMB2) with server challenge \"b'85ee62db6461828d'\"\n",
      "2021-02-23 20:11:29,420 - SMB.SMBConnection - INFO - Server supports SMB signing\n",
      "2021-02-23 20:11:29,421 - SMB.SMBConnection - INFO - SMB signing deactivated. SMB messages will NOT be signed.\n",
      "2021-02-23 20:11:29,483 - SMB.SMBConnection - INFO - Authentication (on SMB2) successful!\n"
     ]
    },
    {
     "name": "stderr",
     "output_type": "stream",
     "text": [
      "\r",
      " 73%|███████▎  | 73/100 [01:31<00:33,  1.25s/it]"
     ]
    },
    {
     "name": "stdout",
     "output_type": "stream",
     "text": [
      "2021-02-23 20:11:30,488 - SMB.SMBConnection - INFO - Authentication with remote machine \"//10.1.1.52/\" for user \"rodrigo_cunha\" will be using NTLM v2 authentication (with extended security)\n",
      "2021-02-23 20:11:30,623 - SMB.SMBConnection - INFO - Now switching over to SMB2 protocol communication\n",
      "2021-02-23 20:11:30,625 - SMB.SMBConnection - INFO - SMB2 dialect negotiation successful\n",
      "2021-02-23 20:11:30,692 - SMB.SMBConnection - INFO - Performing NTLMv2 authentication (on SMB2) with server challenge \"b'6e5b07baa163048e'\"\n",
      "2021-02-23 20:11:30,694 - SMB.SMBConnection - INFO - Performing NTLMv2 authentication (on SMB2) with server challenge \"b'6e5b07baa163048e'\"\n",
      "2021-02-23 20:11:30,701 - SMB.SMBConnection - INFO - Server supports SMB signing\n",
      "2021-02-23 20:11:30,707 - SMB.SMBConnection - INFO - SMB signing deactivated. SMB messages will NOT be signed.\n",
      "2021-02-23 20:11:30,758 - SMB.SMBConnection - INFO - Authentication (on SMB2) successful!\n"
     ]
    },
    {
     "name": "stderr",
     "output_type": "stream",
     "text": [
      "\r",
      " 74%|███████▍  | 74/100 [01:32<00:32,  1.27s/it]"
     ]
    },
    {
     "name": "stdout",
     "output_type": "stream",
     "text": [
      "2021-02-23 20:11:31,779 - SMB.SMBConnection - INFO - Authentication with remote machine \"//10.1.1.52/\" for user \"rodrigo_cunha\" will be using NTLM v2 authentication (with extended security)\n",
      "2021-02-23 20:11:31,920 - SMB.SMBConnection - INFO - Now switching over to SMB2 protocol communication\n",
      "2021-02-23 20:11:31,922 - SMB.SMBConnection - INFO - SMB2 dialect negotiation successful\n",
      "2021-02-23 20:11:31,986 - SMB.SMBConnection - INFO - Performing NTLMv2 authentication (on SMB2) with server challenge \"b'68b24759c66185fd'\"\n",
      "2021-02-23 20:11:31,987 - SMB.SMBConnection - INFO - Performing NTLMv2 authentication (on SMB2) with server challenge \"b'68b24759c66185fd'\"\n",
      "2021-02-23 20:11:31,990 - SMB.SMBConnection - INFO - Server supports SMB signing\n",
      "2021-02-23 20:11:31,992 - SMB.SMBConnection - INFO - SMB signing deactivated. SMB messages will NOT be signed.\n",
      "2021-02-23 20:11:32,055 - SMB.SMBConnection - INFO - Authentication (on SMB2) successful!\n"
     ]
    },
    {
     "name": "stderr",
     "output_type": "stream",
     "text": [
      "\r",
      " 75%|███████▌  | 75/100 [01:34<00:30,  1.23s/it]"
     ]
    },
    {
     "name": "stdout",
     "output_type": "stream",
     "text": [
      "2021-02-23 20:11:32,920 - SMB.SMBConnection - INFO - Authentication with remote machine \"//10.1.1.52/\" for user \"rodrigo_cunha\" will be using NTLM v2 authentication (with extended security)\n",
      "2021-02-23 20:11:33,020 - SMB.SMBConnection - INFO - Now switching over to SMB2 protocol communication\n",
      "2021-02-23 20:11:33,021 - SMB.SMBConnection - INFO - SMB2 dialect negotiation successful\n",
      "2021-02-23 20:11:33,084 - SMB.SMBConnection - INFO - Performing NTLMv2 authentication (on SMB2) with server challenge \"b'14676c573e7dde11'\"\n",
      "2021-02-23 20:11:33,085 - SMB.SMBConnection - INFO - Performing NTLMv2 authentication (on SMB2) with server challenge \"b'14676c573e7dde11'\"\n",
      "2021-02-23 20:11:33,088 - SMB.SMBConnection - INFO - Server supports SMB signing\n",
      "2021-02-23 20:11:33,089 - SMB.SMBConnection - INFO - SMB signing deactivated. SMB messages will NOT be signed.\n",
      "2021-02-23 20:11:33,150 - SMB.SMBConnection - INFO - Authentication (on SMB2) successful!\n"
     ]
    },
    {
     "name": "stderr",
     "output_type": "stream",
     "text": [
      "\r",
      " 76%|███████▌  | 76/100 [01:35<00:29,  1.24s/it]"
     ]
    },
    {
     "name": "stdout",
     "output_type": "stream",
     "text": [
      "2021-02-23 20:11:34,200 - SMB.SMBConnection - INFO - Authentication with remote machine \"//10.1.1.52/\" for user \"rodrigo_cunha\" will be using NTLM v2 authentication (with extended security)\n",
      "2021-02-23 20:11:34,380 - SMB.SMBConnection - INFO - Now switching over to SMB2 protocol communication\n",
      "2021-02-23 20:11:34,382 - SMB.SMBConnection - INFO - SMB2 dialect negotiation successful\n",
      "2021-02-23 20:11:34,453 - SMB.SMBConnection - INFO - Performing NTLMv2 authentication (on SMB2) with server challenge \"b'826df9b0486d64e3'\"\n",
      "2021-02-23 20:11:34,457 - SMB.SMBConnection - INFO - Performing NTLMv2 authentication (on SMB2) with server challenge \"b'826df9b0486d64e3'\"\n",
      "2021-02-23 20:11:34,467 - SMB.SMBConnection - INFO - Server supports SMB signing\n",
      "2021-02-23 20:11:34,469 - SMB.SMBConnection - INFO - SMB signing deactivated. SMB messages will NOT be signed.\n",
      "2021-02-23 20:11:34,518 - SMB.SMBConnection - INFO - Authentication (on SMB2) successful!\n"
     ]
    },
    {
     "name": "stderr",
     "output_type": "stream",
     "text": [
      "\r",
      " 77%|███████▋  | 77/100 [01:36<00:28,  1.25s/it]"
     ]
    },
    {
     "name": "stdout",
     "output_type": "stream",
     "text": [
      "2021-02-23 20:11:35,466 - SMB.SMBConnection - INFO - Authentication with remote machine \"//10.1.1.52/\" for user \"rodrigo_cunha\" will be using NTLM v2 authentication (with extended security)\n",
      "2021-02-23 20:11:35,611 - SMB.SMBConnection - INFO - Now switching over to SMB2 protocol communication\n",
      "2021-02-23 20:11:35,613 - SMB.SMBConnection - INFO - SMB2 dialect negotiation successful\n",
      "2021-02-23 20:11:35,683 - SMB.SMBConnection - INFO - Performing NTLMv2 authentication (on SMB2) with server challenge \"b'5a3c907ba9163cc9'\"\n",
      "2021-02-23 20:11:35,686 - SMB.SMBConnection - INFO - Performing NTLMv2 authentication (on SMB2) with server challenge \"b'5a3c907ba9163cc9'\"\n",
      "2021-02-23 20:11:35,692 - SMB.SMBConnection - INFO - Server supports SMB signing\n",
      "2021-02-23 20:11:35,696 - SMB.SMBConnection - INFO - SMB signing deactivated. SMB messages will NOT be signed.\n",
      "2021-02-23 20:11:35,754 - SMB.SMBConnection - INFO - Authentication (on SMB2) successful!\n"
     ]
    },
    {
     "name": "stderr",
     "output_type": "stream",
     "text": [
      "\r",
      " 78%|███████▊  | 78/100 [01:37<00:27,  1.26s/it]"
     ]
    },
    {
     "name": "stdout",
     "output_type": "stream",
     "text": [
      "2021-02-23 20:11:36,737 - SMB.SMBConnection - INFO - Authentication with remote machine \"//10.1.1.52/\" for user \"rodrigo_cunha\" will be using NTLM v2 authentication (with extended security)\n",
      "2021-02-23 20:11:36,891 - SMB.SMBConnection - INFO - Now switching over to SMB2 protocol communication\n",
      "2021-02-23 20:11:36,892 - SMB.SMBConnection - INFO - SMB2 dialect negotiation successful\n",
      "2021-02-23 20:11:36,955 - SMB.SMBConnection - INFO - Performing NTLMv2 authentication (on SMB2) with server challenge \"b'c56ae476de9d8a6c'\"\n",
      "2021-02-23 20:11:36,957 - SMB.SMBConnection - INFO - Performing NTLMv2 authentication (on SMB2) with server challenge \"b'c56ae476de9d8a6c'\"\n",
      "2021-02-23 20:11:36,959 - SMB.SMBConnection - INFO - Server supports SMB signing\n",
      "2021-02-23 20:11:36,961 - SMB.SMBConnection - INFO - SMB signing deactivated. SMB messages will NOT be signed.\n",
      "2021-02-23 20:11:37,022 - SMB.SMBConnection - INFO - Authentication (on SMB2) successful!\n"
     ]
    },
    {
     "name": "stderr",
     "output_type": "stream",
     "text": [
      "\r",
      " 79%|███████▉  | 79/100 [01:39<00:26,  1.24s/it]"
     ]
    },
    {
     "name": "stdout",
     "output_type": "stream",
     "text": [
      "2021-02-23 20:11:37,955 - SMB.SMBConnection - INFO - Authentication with remote machine \"//10.1.1.52/\" for user \"rodrigo_cunha\" will be using NTLM v2 authentication (with extended security)\n",
      "2021-02-23 20:11:38,059 - SMB.SMBConnection - INFO - Now switching over to SMB2 protocol communication\n",
      "2021-02-23 20:11:38,061 - SMB.SMBConnection - INFO - SMB2 dialect negotiation successful\n",
      "2021-02-23 20:11:38,124 - SMB.SMBConnection - INFO - Performing NTLMv2 authentication (on SMB2) with server challenge \"b'7d149164ddef3c4e'\"\n",
      "2021-02-23 20:11:38,129 - SMB.SMBConnection - INFO - Performing NTLMv2 authentication (on SMB2) with server challenge \"b'7d149164ddef3c4e'\"\n",
      "2021-02-23 20:11:38,133 - SMB.SMBConnection - INFO - Server supports SMB signing\n",
      "2021-02-23 20:11:38,135 - SMB.SMBConnection - INFO - SMB signing deactivated. SMB messages will NOT be signed.\n",
      "2021-02-23 20:11:38,190 - SMB.SMBConnection - INFO - Authentication (on SMB2) successful!\n"
     ]
    },
    {
     "name": "stderr",
     "output_type": "stream",
     "text": [
      "\r",
      " 80%|████████  | 80/100 [01:40<00:24,  1.23s/it]"
     ]
    },
    {
     "name": "stdout",
     "output_type": "stream",
     "text": [
      "2021-02-23 20:11:39,139 - SMB.SMBConnection - INFO - Authentication with remote machine \"//10.1.1.52/\" for user \"rodrigo_cunha\" will be using NTLM v2 authentication (with extended security)\n",
      "2021-02-23 20:11:39,273 - SMB.SMBConnection - INFO - Now switching over to SMB2 protocol communication\n",
      "2021-02-23 20:11:39,275 - SMB.SMBConnection - INFO - SMB2 dialect negotiation successful\n",
      "2021-02-23 20:11:39,341 - SMB.SMBConnection - INFO - Performing NTLMv2 authentication (on SMB2) with server challenge \"b'0582ef04e4baf820'\"\n",
      "2021-02-23 20:11:39,342 - SMB.SMBConnection - INFO - Performing NTLMv2 authentication (on SMB2) with server challenge \"b'0582ef04e4baf820'\"\n",
      "2021-02-23 20:11:39,345 - SMB.SMBConnection - INFO - Server supports SMB signing\n",
      "2021-02-23 20:11:39,346 - SMB.SMBConnection - INFO - SMB signing deactivated. SMB messages will NOT be signed.\n",
      "2021-02-23 20:11:39,411 - SMB.SMBConnection - INFO - Authentication (on SMB2) successful!\n"
     ]
    },
    {
     "name": "stderr",
     "output_type": "stream",
     "text": [
      "\r",
      " 81%|████████  | 81/100 [01:41<00:23,  1.23s/it]"
     ]
    },
    {
     "name": "stdout",
     "output_type": "stream",
     "text": [
      "2021-02-23 20:11:40,375 - SMB.SMBConnection - INFO - Authentication with remote machine \"//10.1.1.52/\" for user \"rodrigo_cunha\" will be using NTLM v2 authentication (with extended security)\n",
      "2021-02-23 20:11:40,548 - SMB.SMBConnection - INFO - Now switching over to SMB2 protocol communication\n",
      "2021-02-23 20:11:40,549 - SMB.SMBConnection - INFO - SMB2 dialect negotiation successful\n",
      "2021-02-23 20:11:40,613 - SMB.SMBConnection - INFO - Performing NTLMv2 authentication (on SMB2) with server challenge \"b'640b8c1b5ac1c8f6'\"\n",
      "2021-02-23 20:11:40,614 - SMB.SMBConnection - INFO - Performing NTLMv2 authentication (on SMB2) with server challenge \"b'640b8c1b5ac1c8f6'\"\n",
      "2021-02-23 20:11:40,616 - SMB.SMBConnection - INFO - Server supports SMB signing\n",
      "2021-02-23 20:11:40,617 - SMB.SMBConnection - INFO - SMB signing deactivated. SMB messages will NOT be signed.\n",
      "2021-02-23 20:11:40,679 - SMB.SMBConnection - INFO - Authentication (on SMB2) successful!\n"
     ]
    },
    {
     "name": "stderr",
     "output_type": "stream",
     "text": [
      "\r",
      " 82%|████████▏ | 82/100 [01:42<00:22,  1.25s/it]"
     ]
    },
    {
     "name": "stdout",
     "output_type": "stream",
     "text": [
      "2021-02-23 20:11:41,686 - SMB.SMBConnection - INFO - Authentication with remote machine \"//10.1.1.52/\" for user \"rodrigo_cunha\" will be using NTLM v2 authentication (with extended security)\n",
      "2021-02-23 20:11:41,823 - SMB.SMBConnection - INFO - Now switching over to SMB2 protocol communication\n",
      "2021-02-23 20:11:41,825 - SMB.SMBConnection - INFO - SMB2 dialect negotiation successful\n",
      "2021-02-23 20:11:41,897 - SMB.SMBConnection - INFO - Performing NTLMv2 authentication (on SMB2) with server challenge \"b'c95b864cc32cfdd6'\"\n",
      "2021-02-23 20:11:41,898 - SMB.SMBConnection - INFO - Performing NTLMv2 authentication (on SMB2) with server challenge \"b'c95b864cc32cfdd6'\"\n",
      "2021-02-23 20:11:41,900 - SMB.SMBConnection - INFO - Server supports SMB signing\n",
      "2021-02-23 20:11:41,901 - SMB.SMBConnection - INFO - SMB signing deactivated. SMB messages will NOT be signed.\n",
      "2021-02-23 20:11:41,962 - SMB.SMBConnection - INFO - Authentication (on SMB2) successful!\n"
     ]
    },
    {
     "name": "stderr",
     "output_type": "stream",
     "text": [
      "\r",
      " 83%|████████▎ | 83/100 [01:44<00:21,  1.27s/it]"
     ]
    },
    {
     "name": "stdout",
     "output_type": "stream",
     "text": [
      "2021-02-23 20:11:43,005 - SMB.SMBConnection - INFO - Authentication with remote machine \"//10.1.1.52/\" for user \"rodrigo_cunha\" will be using NTLM v2 authentication (with extended security)\n",
      "2021-02-23 20:11:43,135 - SMB.SMBConnection - INFO - Now switching over to SMB2 protocol communication\n",
      "2021-02-23 20:11:43,137 - SMB.SMBConnection - INFO - SMB2 dialect negotiation successful\n",
      "2021-02-23 20:11:43,205 - SMB.SMBConnection - INFO - Performing NTLMv2 authentication (on SMB2) with server challenge \"b'b9fe77d0d4a4ed9c'\"\n",
      "2021-02-23 20:11:43,206 - SMB.SMBConnection - INFO - Performing NTLMv2 authentication (on SMB2) with server challenge \"b'b9fe77d0d4a4ed9c'\"\n",
      "2021-02-23 20:11:43,211 - SMB.SMBConnection - INFO - Server supports SMB signing\n",
      "2021-02-23 20:11:43,212 - SMB.SMBConnection - INFO - SMB signing deactivated. SMB messages will NOT be signed.\n",
      "2021-02-23 20:11:43,271 - SMB.SMBConnection - INFO - Authentication (on SMB2) successful!\n"
     ]
    },
    {
     "name": "stderr",
     "output_type": "stream",
     "text": [
      "\r",
      " 84%|████████▍ | 84/100 [01:45<00:19,  1.25s/it]"
     ]
    },
    {
     "name": "stdout",
     "output_type": "stream",
     "text": [
      "2021-02-23 20:11:44,192 - SMB.SMBConnection - INFO - Authentication with remote machine \"//10.1.1.52/\" for user \"rodrigo_cunha\" will be using NTLM v2 authentication (with extended security)\n",
      "2021-02-23 20:11:44,291 - SMB.SMBConnection - INFO - Now switching over to SMB2 protocol communication\n",
      "2021-02-23 20:11:44,292 - SMB.SMBConnection - INFO - SMB2 dialect negotiation successful\n",
      "2021-02-23 20:11:44,362 - SMB.SMBConnection - INFO - Performing NTLMv2 authentication (on SMB2) with server challenge \"b'2e9b268851007a82'\"\n",
      "2021-02-23 20:11:44,363 - SMB.SMBConnection - INFO - Performing NTLMv2 authentication (on SMB2) with server challenge \"b'2e9b268851007a82'\"\n",
      "2021-02-23 20:11:44,365 - SMB.SMBConnection - INFO - Server supports SMB signing\n",
      "2021-02-23 20:11:44,367 - SMB.SMBConnection - INFO - SMB signing deactivated. SMB messages will NOT be signed.\n",
      "2021-02-23 20:11:44,433 - SMB.SMBConnection - INFO - Authentication (on SMB2) successful!\n"
     ]
    },
    {
     "name": "stderr",
     "output_type": "stream",
     "text": [
      "\r",
      " 85%|████████▌ | 85/100 [01:46<00:18,  1.23s/it]"
     ]
    },
    {
     "name": "stdout",
     "output_type": "stream",
     "text": [
      "2021-02-23 20:11:45,390 - SMB.SMBConnection - INFO - Authentication with remote machine \"//10.1.1.52/\" for user \"rodrigo_cunha\" will be using NTLM v2 authentication (with extended security)\n",
      "2021-02-23 20:11:45,554 - SMB.SMBConnection - INFO - Now switching over to SMB2 protocol communication\n",
      "2021-02-23 20:11:45,555 - SMB.SMBConnection - INFO - SMB2 dialect negotiation successful\n",
      "2021-02-23 20:11:45,622 - SMB.SMBConnection - INFO - Performing NTLMv2 authentication (on SMB2) with server challenge \"b'acf764c46b27f030'\"\n",
      "2021-02-23 20:11:45,623 - SMB.SMBConnection - INFO - Performing NTLMv2 authentication (on SMB2) with server challenge \"b'acf764c46b27f030'\"\n",
      "2021-02-23 20:11:45,626 - SMB.SMBConnection - INFO - Server supports SMB signing\n",
      "2021-02-23 20:11:45,627 - SMB.SMBConnection - INFO - SMB signing deactivated. SMB messages will NOT be signed.\n",
      "2021-02-23 20:11:45,695 - SMB.SMBConnection - INFO - Authentication (on SMB2) successful!\n"
     ]
    },
    {
     "name": "stderr",
     "output_type": "stream",
     "text": [
      "\r",
      " 86%|████████▌ | 86/100 [01:47<00:17,  1.21s/it]"
     ]
    },
    {
     "name": "stdout",
     "output_type": "stream",
     "text": [
      "2021-02-23 20:11:46,564 - SMB.SMBConnection - INFO - Authentication with remote machine \"//10.1.1.52/\" for user \"rodrigo_cunha\" will be using NTLM v2 authentication (with extended security)\n",
      "2021-02-23 20:11:46,663 - SMB.SMBConnection - INFO - Now switching over to SMB2 protocol communication\n",
      "2021-02-23 20:11:46,664 - SMB.SMBConnection - INFO - SMB2 dialect negotiation successful\n",
      "2021-02-23 20:11:46,742 - SMB.SMBConnection - INFO - Performing NTLMv2 authentication (on SMB2) with server challenge \"b'c2433ce7b894bf7a'\"\n",
      "2021-02-23 20:11:46,743 - SMB.SMBConnection - INFO - Performing NTLMv2 authentication (on SMB2) with server challenge \"b'c2433ce7b894bf7a'\"\n",
      "2021-02-23 20:11:46,745 - SMB.SMBConnection - INFO - Server supports SMB signing\n",
      "2021-02-23 20:11:46,747 - SMB.SMBConnection - INFO - SMB signing deactivated. SMB messages will NOT be signed.\n",
      "2021-02-23 20:11:46,814 - SMB.SMBConnection - INFO - Authentication (on SMB2) successful!\n"
     ]
    },
    {
     "name": "stderr",
     "output_type": "stream",
     "text": [
      "\r",
      " 87%|████████▋ | 87/100 [01:48<00:15,  1.21s/it]"
     ]
    },
    {
     "name": "stdout",
     "output_type": "stream",
     "text": [
      "2021-02-23 20:11:47,767 - SMB.SMBConnection - INFO - Authentication with remote machine \"//10.1.1.52/\" for user \"rodrigo_cunha\" will be using NTLM v2 authentication (with extended security)\n",
      "2021-02-23 20:11:47,921 - SMB.SMBConnection - INFO - Now switching over to SMB2 protocol communication\n",
      "2021-02-23 20:11:47,923 - SMB.SMBConnection - INFO - SMB2 dialect negotiation successful\n",
      "2021-02-23 20:11:47,986 - SMB.SMBConnection - INFO - Performing NTLMv2 authentication (on SMB2) with server challenge \"b'92d0ff50cf4ee0c2'\"\n",
      "2021-02-23 20:11:47,988 - SMB.SMBConnection - INFO - Performing NTLMv2 authentication (on SMB2) with server challenge \"b'92d0ff50cf4ee0c2'\"\n",
      "2021-02-23 20:11:47,992 - SMB.SMBConnection - INFO - Server supports SMB signing\n",
      "2021-02-23 20:11:47,994 - SMB.SMBConnection - INFO - SMB signing deactivated. SMB messages will NOT be signed.\n",
      "2021-02-23 20:11:48,065 - SMB.SMBConnection - INFO - Authentication (on SMB2) successful!\n"
     ]
    },
    {
     "name": "stderr",
     "output_type": "stream",
     "text": [
      "\r",
      " 88%|████████▊ | 88/100 [01:50<00:15,  1.26s/it]"
     ]
    },
    {
     "name": "stdout",
     "output_type": "stream",
     "text": [
      "2021-02-23 20:11:49,134 - SMB.SMBConnection - INFO - Authentication with remote machine \"//10.1.1.52/\" for user \"rodrigo_cunha\" will be using NTLM v2 authentication (with extended security)\n",
      "2021-02-23 20:11:49,269 - SMB.SMBConnection - INFO - Now switching over to SMB2 protocol communication\n",
      "2021-02-23 20:11:49,270 - SMB.SMBConnection - INFO - SMB2 dialect negotiation successful\n",
      "2021-02-23 20:11:49,333 - SMB.SMBConnection - INFO - Performing NTLMv2 authentication (on SMB2) with server challenge \"b'ff646898dff70a59'\"\n",
      "2021-02-23 20:11:49,334 - SMB.SMBConnection - INFO - Performing NTLMv2 authentication (on SMB2) with server challenge \"b'ff646898dff70a59'\"\n",
      "2021-02-23 20:11:49,336 - SMB.SMBConnection - INFO - Server supports SMB signing\n",
      "2021-02-23 20:11:49,338 - SMB.SMBConnection - INFO - SMB signing deactivated. SMB messages will NOT be signed.\n",
      "2021-02-23 20:11:49,398 - SMB.SMBConnection - INFO - Authentication (on SMB2) successful!\n"
     ]
    },
    {
     "name": "stderr",
     "output_type": "stream",
     "text": [
      "\r",
      " 89%|████████▉ | 89/100 [01:51<00:13,  1.22s/it]"
     ]
    },
    {
     "name": "stdout",
     "output_type": "stream",
     "text": [
      "2021-02-23 20:11:50,280 - SMB.SMBConnection - INFO - Authentication with remote machine \"//10.1.1.52/\" for user \"rodrigo_cunha\" will be using NTLM v2 authentication (with extended security)\n",
      "2021-02-23 20:11:50,415 - SMB.SMBConnection - INFO - Now switching over to SMB2 protocol communication\n",
      "2021-02-23 20:11:50,417 - SMB.SMBConnection - INFO - SMB2 dialect negotiation successful\n",
      "2021-02-23 20:11:50,480 - SMB.SMBConnection - INFO - Performing NTLMv2 authentication (on SMB2) with server challenge \"b'1301e08b87afea38'\"\n",
      "2021-02-23 20:11:50,482 - SMB.SMBConnection - INFO - Performing NTLMv2 authentication (on SMB2) with server challenge \"b'1301e08b87afea38'\"\n",
      "2021-02-23 20:11:50,485 - SMB.SMBConnection - INFO - Server supports SMB signing\n",
      "2021-02-23 20:11:50,486 - SMB.SMBConnection - INFO - SMB signing deactivated. SMB messages will NOT be signed.\n",
      "2021-02-23 20:11:50,546 - SMB.SMBConnection - INFO - Authentication (on SMB2) successful!\n"
     ]
    },
    {
     "name": "stderr",
     "output_type": "stream",
     "text": [
      "\r",
      " 90%|█████████ | 90/100 [01:52<00:12,  1.23s/it]"
     ]
    },
    {
     "name": "stdout",
     "output_type": "stream",
     "text": [
      "2021-02-23 20:11:51,513 - SMB.SMBConnection - INFO - Authentication with remote machine \"//10.1.1.52/\" for user \"rodrigo_cunha\" will be using NTLM v2 authentication (with extended security)\n",
      "2021-02-23 20:11:51,650 - SMB.SMBConnection - INFO - Now switching over to SMB2 protocol communication\n",
      "2021-02-23 20:11:51,651 - SMB.SMBConnection - INFO - SMB2 dialect negotiation successful\n",
      "2021-02-23 20:11:51,719 - SMB.SMBConnection - INFO - Performing NTLMv2 authentication (on SMB2) with server challenge \"b'38673eab33a43dae'\"\n",
      "2021-02-23 20:11:51,720 - SMB.SMBConnection - INFO - Performing NTLMv2 authentication (on SMB2) with server challenge \"b'38673eab33a43dae'\"\n",
      "2021-02-23 20:11:51,722 - SMB.SMBConnection - INFO - Server supports SMB signing\n",
      "2021-02-23 20:11:51,724 - SMB.SMBConnection - INFO - SMB signing deactivated. SMB messages will NOT be signed.\n",
      "2021-02-23 20:11:51,790 - SMB.SMBConnection - INFO - Authentication (on SMB2) successful!\n"
     ]
    },
    {
     "name": "stderr",
     "output_type": "stream",
     "text": [
      "\r",
      " 91%|█████████ | 91/100 [01:53<00:10,  1.22s/it]"
     ]
    },
    {
     "name": "stdout",
     "output_type": "stream",
     "text": [
      "2021-02-23 20:11:52,702 - SMB.SMBConnection - INFO - Authentication with remote machine \"//10.1.1.52/\" for user \"rodrigo_cunha\" will be using NTLM v2 authentication (with extended security)\n",
      "2021-02-23 20:11:52,840 - SMB.SMBConnection - INFO - Now switching over to SMB2 protocol communication\n",
      "2021-02-23 20:11:52,841 - SMB.SMBConnection - INFO - SMB2 dialect negotiation successful\n",
      "2021-02-23 20:11:52,913 - SMB.SMBConnection - INFO - Performing NTLMv2 authentication (on SMB2) with server challenge \"b'10f58e75c7966ce0'\"\n",
      "2021-02-23 20:11:52,914 - SMB.SMBConnection - INFO - Performing NTLMv2 authentication (on SMB2) with server challenge \"b'10f58e75c7966ce0'\"\n",
      "2021-02-23 20:11:52,916 - SMB.SMBConnection - INFO - Server supports SMB signing\n",
      "2021-02-23 20:11:52,918 - SMB.SMBConnection - INFO - SMB signing deactivated. SMB messages will NOT be signed.\n",
      "2021-02-23 20:11:52,979 - SMB.SMBConnection - INFO - Authentication (on SMB2) successful!\n"
     ]
    },
    {
     "name": "stderr",
     "output_type": "stream",
     "text": [
      "\r",
      " 92%|█████████▏| 92/100 [01:55<00:09,  1.20s/it]"
     ]
    },
    {
     "name": "stdout",
     "output_type": "stream",
     "text": [
      "2021-02-23 20:11:53,862 - SMB.SMBConnection - INFO - Authentication with remote machine \"//10.1.1.52/\" for user \"rodrigo_cunha\" will be using NTLM v2 authentication (with extended security)\n",
      "2021-02-23 20:11:54,004 - SMB.SMBConnection - INFO - Now switching over to SMB2 protocol communication\n",
      "2021-02-23 20:11:54,006 - SMB.SMBConnection - INFO - SMB2 dialect negotiation successful\n",
      "2021-02-23 20:11:54,070 - SMB.SMBConnection - INFO - Performing NTLMv2 authentication (on SMB2) with server challenge \"b'9c87cda532077c1b'\"\n",
      "2021-02-23 20:11:54,074 - SMB.SMBConnection - INFO - Performing NTLMv2 authentication (on SMB2) with server challenge \"b'9c87cda532077c1b'\"\n",
      "2021-02-23 20:11:54,077 - SMB.SMBConnection - INFO - Server supports SMB signing\n",
      "2021-02-23 20:11:54,079 - SMB.SMBConnection - INFO - SMB signing deactivated. SMB messages will NOT be signed.\n",
      "2021-02-23 20:11:54,145 - SMB.SMBConnection - INFO - Authentication (on SMB2) successful!\n"
     ]
    },
    {
     "name": "stderr",
     "output_type": "stream",
     "text": [
      "\r",
      " 93%|█████████▎| 93/100 [01:56<00:08,  1.18s/it]"
     ]
    },
    {
     "name": "stdout",
     "output_type": "stream",
     "text": [
      "2021-02-23 20:11:55,007 - SMB.SMBConnection - INFO - Authentication with remote machine \"//10.1.1.52/\" for user \"rodrigo_cunha\" will be using NTLM v2 authentication (with extended security)\n",
      "2021-02-23 20:11:55,069 - SMB.SMBConnection - INFO - Now switching over to SMB2 protocol communication\n",
      "2021-02-23 20:11:55,070 - SMB.SMBConnection - INFO - SMB2 dialect negotiation successful\n",
      "2021-02-23 20:11:55,138 - SMB.SMBConnection - INFO - Performing NTLMv2 authentication (on SMB2) with server challenge \"b'e5918c1045c4a3c5'\"\n",
      "2021-02-23 20:11:55,139 - SMB.SMBConnection - INFO - Performing NTLMv2 authentication (on SMB2) with server challenge \"b'e5918c1045c4a3c5'\"\n",
      "2021-02-23 20:11:55,144 - SMB.SMBConnection - INFO - Server supports SMB signing\n",
      "2021-02-23 20:11:55,145 - SMB.SMBConnection - INFO - SMB signing deactivated. SMB messages will NOT be signed.\n",
      "2021-02-23 20:11:55,203 - SMB.SMBConnection - INFO - Authentication (on SMB2) successful!\n"
     ]
    },
    {
     "name": "stderr",
     "output_type": "stream",
     "text": [
      "\r",
      " 94%|█████████▍| 94/100 [01:57<00:06,  1.12s/it]"
     ]
    },
    {
     "name": "stdout",
     "output_type": "stream",
     "text": [
      "2021-02-23 20:11:55,965 - SMB.SMBConnection - INFO - Authentication with remote machine \"//10.1.1.52/\" for user \"rodrigo_cunha\" will be using NTLM v2 authentication (with extended security)\n",
      "2021-02-23 20:11:56,104 - SMB.SMBConnection - INFO - Now switching over to SMB2 protocol communication\n",
      "2021-02-23 20:11:56,105 - SMB.SMBConnection - INFO - SMB2 dialect negotiation successful\n",
      "2021-02-23 20:11:56,185 - SMB.SMBConnection - INFO - Performing NTLMv2 authentication (on SMB2) with server challenge \"b'c3bba6cc309a99d2'\"\n",
      "2021-02-23 20:11:56,186 - SMB.SMBConnection - INFO - Performing NTLMv2 authentication (on SMB2) with server challenge \"b'c3bba6cc309a99d2'\"\n",
      "2021-02-23 20:11:56,188 - SMB.SMBConnection - INFO - Server supports SMB signing\n",
      "2021-02-23 20:11:56,190 - SMB.SMBConnection - INFO - SMB signing deactivated. SMB messages will NOT be signed.\n",
      "2021-02-23 20:11:56,255 - SMB.SMBConnection - INFO - Authentication (on SMB2) successful!\n"
     ]
    },
    {
     "name": "stderr",
     "output_type": "stream",
     "text": [
      "\r",
      " 95%|█████████▌| 95/100 [01:58<00:05,  1.18s/it]"
     ]
    },
    {
     "name": "stdout",
     "output_type": "stream",
     "text": [
      "2021-02-23 20:11:57,290 - SMB.SMBConnection - INFO - Authentication with remote machine \"//10.1.1.52/\" for user \"rodrigo_cunha\" will be using NTLM v2 authentication (with extended security)\n",
      "2021-02-23 20:11:57,384 - SMB.SMBConnection - INFO - Now switching over to SMB2 protocol communication\n",
      "2021-02-23 20:11:57,385 - SMB.SMBConnection - INFO - SMB2 dialect negotiation successful\n",
      "2021-02-23 20:11:57,450 - SMB.SMBConnection - INFO - Performing NTLMv2 authentication (on SMB2) with server challenge \"b'85fb1e0c9a157c83'\"\n",
      "2021-02-23 20:11:57,453 - SMB.SMBConnection - INFO - Performing NTLMv2 authentication (on SMB2) with server challenge \"b'85fb1e0c9a157c83'\"\n",
      "2021-02-23 20:11:57,456 - SMB.SMBConnection - INFO - Server supports SMB signing\n",
      "2021-02-23 20:11:57,458 - SMB.SMBConnection - INFO - SMB signing deactivated. SMB messages will NOT be signed.\n",
      "2021-02-23 20:11:57,519 - SMB.SMBConnection - INFO - Authentication (on SMB2) successful!\n"
     ]
    },
    {
     "name": "stderr",
     "output_type": "stream",
     "text": [
      "\r",
      " 96%|█████████▌| 96/100 [01:59<00:04,  1.13s/it]"
     ]
    },
    {
     "name": "stdout",
     "output_type": "stream",
     "text": [
      "2021-02-23 20:11:58,312 - SMB.SMBConnection - INFO - Authentication with remote machine \"//10.1.1.52/\" for user \"rodrigo_cunha\" will be using NTLM v2 authentication (with extended security)\n",
      "2021-02-23 20:11:58,451 - SMB.SMBConnection - INFO - Now switching over to SMB2 protocol communication\n",
      "2021-02-23 20:11:58,453 - SMB.SMBConnection - INFO - SMB2 dialect negotiation successful\n",
      "2021-02-23 20:11:58,520 - SMB.SMBConnection - INFO - Performing NTLMv2 authentication (on SMB2) with server challenge \"b'c9072fe9ad2ef0c9'\"\n",
      "2021-02-23 20:11:58,521 - SMB.SMBConnection - INFO - Performing NTLMv2 authentication (on SMB2) with server challenge \"b'c9072fe9ad2ef0c9'\"\n",
      "2021-02-23 20:11:58,524 - SMB.SMBConnection - INFO - Server supports SMB signing\n",
      "2021-02-23 20:11:58,525 - SMB.SMBConnection - INFO - SMB signing deactivated. SMB messages will NOT be signed.\n",
      "2021-02-23 20:11:58,586 - SMB.SMBConnection - INFO - Authentication (on SMB2) successful!\n"
     ]
    },
    {
     "name": "stderr",
     "output_type": "stream",
     "text": [
      "\r",
      " 97%|█████████▋| 97/100 [02:00<00:03,  1.18s/it]"
     ]
    },
    {
     "name": "stdout",
     "output_type": "stream",
     "text": [
      "2021-02-23 20:11:59,599 - SMB.SMBConnection - INFO - Authentication with remote machine \"//10.1.1.52/\" for user \"rodrigo_cunha\" will be using NTLM v2 authentication (with extended security)\n",
      "2021-02-23 20:11:59,739 - SMB.SMBConnection - INFO - Now switching over to SMB2 protocol communication\n",
      "2021-02-23 20:11:59,741 - SMB.SMBConnection - INFO - SMB2 dialect negotiation successful\n",
      "2021-02-23 20:11:59,809 - SMB.SMBConnection - INFO - Performing NTLMv2 authentication (on SMB2) with server challenge \"b'43db44b9d42d6bcb'\"\n",
      "2021-02-23 20:11:59,810 - SMB.SMBConnection - INFO - Performing NTLMv2 authentication (on SMB2) with server challenge \"b'43db44b9d42d6bcb'\"\n",
      "2021-02-23 20:11:59,813 - SMB.SMBConnection - INFO - Server supports SMB signing\n",
      "2021-02-23 20:11:59,814 - SMB.SMBConnection - INFO - SMB signing deactivated. SMB messages will NOT be signed.\n",
      "2021-02-23 20:11:59,887 - SMB.SMBConnection - INFO - Authentication (on SMB2) successful!\n"
     ]
    },
    {
     "name": "stderr",
     "output_type": "stream",
     "text": [
      "\r",
      " 98%|█████████▊| 98/100 [02:02<00:02,  1.20s/it]"
     ]
    },
    {
     "name": "stdout",
     "output_type": "stream",
     "text": [
      "2021-02-23 20:12:00,854 - SMB.SMBConnection - INFO - Authentication with remote machine \"//10.1.1.52/\" for user \"rodrigo_cunha\" will be using NTLM v2 authentication (with extended security)\n",
      "2021-02-23 20:12:00,995 - SMB.SMBConnection - INFO - Now switching over to SMB2 protocol communication\n",
      "2021-02-23 20:12:00,997 - SMB.SMBConnection - INFO - SMB2 dialect negotiation successful\n",
      "2021-02-23 20:12:01,066 - SMB.SMBConnection - INFO - Performing NTLMv2 authentication (on SMB2) with server challenge \"b'b385488fc7df9a73'\"\n",
      "2021-02-23 20:12:01,067 - SMB.SMBConnection - INFO - Performing NTLMv2 authentication (on SMB2) with server challenge \"b'b385488fc7df9a73'\"\n",
      "2021-02-23 20:12:01,070 - SMB.SMBConnection - INFO - Server supports SMB signing\n",
      "2021-02-23 20:12:01,071 - SMB.SMBConnection - INFO - SMB signing deactivated. SMB messages will NOT be signed.\n",
      "2021-02-23 20:12:01,136 - SMB.SMBConnection - INFO - Authentication (on SMB2) successful!\n"
     ]
    },
    {
     "name": "stderr",
     "output_type": "stream",
     "text": [
      "\r",
      " 99%|█████████▉| 99/100 [02:03<00:01,  1.18s/it]"
     ]
    },
    {
     "name": "stdout",
     "output_type": "stream",
     "text": [
      "2021-02-23 20:12:01,982 - SMB.SMBConnection - INFO - Authentication with remote machine \"//10.1.1.52/\" for user \"rodrigo_cunha\" will be using NTLM v2 authentication (with extended security)\n",
      "2021-02-23 20:12:02,076 - SMB.SMBConnection - INFO - Now switching over to SMB2 protocol communication\n",
      "2021-02-23 20:12:02,077 - SMB.SMBConnection - INFO - SMB2 dialect negotiation successful\n",
      "2021-02-23 20:12:02,142 - SMB.SMBConnection - INFO - Performing NTLMv2 authentication (on SMB2) with server challenge \"b'3aa79d2ac7444430'\"\n",
      "2021-02-23 20:12:02,143 - SMB.SMBConnection - INFO - Performing NTLMv2 authentication (on SMB2) with server challenge \"b'3aa79d2ac7444430'\"\n",
      "2021-02-23 20:12:02,146 - SMB.SMBConnection - INFO - Server supports SMB signing\n",
      "2021-02-23 20:12:02,147 - SMB.SMBConnection - INFO - SMB signing deactivated. SMB messages will NOT be signed.\n",
      "2021-02-23 20:12:02,227 - SMB.SMBConnection - INFO - Authentication (on SMB2) successful!\n"
     ]
    },
    {
     "name": "stderr",
     "output_type": "stream",
     "text": [
      "100%|██████████| 100/100 [02:04<00:00,  1.24s/it]\n"
     ]
    }
   ],
   "source": [
    "sgs_data = download_sgs_data(\n",
    "    credentials = credentials,\n",
    "    sgs_params = catalog.load(\"params:sgs\"),\n",
    "    tpn_params = catalog.load(\"params:tpn\"),\n",
    "    project_path = catalog.load(\"params:project_path\"),\n",
    ")"
   ]
  },
  {
   "cell_type": "code",
   "execution_count": 10,
   "id": "moral-angel",
   "metadata": {},
   "outputs": [
    {
     "data": {
      "text/plain": [
       "dict_keys(['22_0001_pos.csv', '22_0011_pos.csv', '22_0021_pos.csv', '22_0031_pos.csv', '22_0041_pos.csv', '22_0051_pos.csv', '22_0061_pos.csv', '22_0071_pos.csv', '22_0081_pos.csv', '22_0091_pos.csv', '22_0101_pos.csv', '22_0111_pos.csv', '22_0121_pos.csv', '22_0131_pos.csv', '22_0141_pos.csv', '22_0151_pos.csv', '22_0161_pos.csv', '22_0171_pos.csv', '22_0181_pos.csv', '22_0191_pos.csv', '22_0201_pos.csv', '22_0211_pos.csv', '22_0221_pos.csv', '22_0231_pos.csv', '22_0241_pos.csv', '22_0251_pos.csv', '22_0261_pos.csv', '22_0271_pos.csv', '22_0281_pos.csv', '22_0291_pos.csv', '22_0301_pos.csv', '22_0311_pos.csv', '22_0321_pos.csv', '22_0331_pos.csv', '22_0341_pos.csv', '22_0351_pos.csv', '22_0361_pos.csv', '22_0371_pos.csv', '22_0381_pos.csv', '22_0391_pos.csv', '22_0401_pos.csv', '22_0411_pos.csv', '22_0421_pos.csv', '22_0431_pos.csv', '22_0441_pos.csv', '22_0451_pos.csv', '22_0461_pos.csv', '22_0471_pos.csv', '22_0481_pos.csv', '22_0491_pos.csv', '22_0501_pos.csv', '22_0511_pos.csv', '22_0521_pos.csv', '22_0531_pos.csv', '22_0541_pos.csv', '22_0551_pos.csv', '22_0561_pos.csv', '22_0571_pos.csv', '22_0581_pos.csv', '22_0591_pos.csv', '22_0601_pos.csv', '22_0611_pos.csv', '22_0621_pos.csv', '22_0631_pos.csv', '22_0641_pos.csv', '22_0651_pos.csv', '22_0661_pos.csv', '22_0671_pos.csv', '22_0681_pos.csv', '22_0691_pos.csv', '22_0701_pos.csv', '22_0711_pos.csv', '22_0721_pos.csv', '22_0731_pos.csv', '22_0741_pos.csv', '22_0751_pos.csv', '22_0761_pos.csv', '22_0771_pos.csv', '22_0781_pos.csv', '22_0791_pos.csv', '22_0801_pos.csv', '22_0811_pos.csv', '22_0821_pos.csv', '22_0831_pos.csv', '22_0841_pos.csv', '22_0851_pos.csv', '22_0861_pos.csv', '22_0871_pos.csv', '22_0881_pos.csv', '22_0891_pos.csv', '22_0901_pos.csv', '22_0911_pos.csv', '22_0921_pos.csv', '22_0931_pos.csv', '22_0941_pos.csv', '22_0951_pos.csv', '22_0961_pos.csv', '22_0971_pos.csv', '22_0981_pos.csv', '22_0991_pos.csv'])"
      ]
     },
     "execution_count": 10,
     "metadata": {},
     "output_type": "execute_result"
    }
   ],
   "source": [
    "sgs_data.keys()"
   ]
  },
  {
   "cell_type": "markdown",
   "id": "broken-palmer",
   "metadata": {},
   "source": [
    "# 5. Next steps\n",
    "\n",
    "- 1. Update **nodes.py** file for data integration pipeline\n",
    "- 2. Update **pipeline.py** file for data integration pipeline\n",
    "- 3. Update **hooks.py** file\n",
    "- 4. Update **conf/base/catalog.yml** file\n",
    "- 5. **Commit code to repo**"
   ]
  }
 ],
 "metadata": {
  "kernelspec": {
   "display_name": "KedroMLFlowTutorial",
   "language": "python",
   "name": "python3"
  },
  "language_info": {
   "codemirror_mode": {
    "name": "ipython",
    "version": 3
   },
   "file_extension": ".py",
   "mimetype": "text/x-python",
   "name": "python",
   "nbconvert_exporter": "python",
   "pygments_lexer": "ipython3",
   "version": "3.8.5"
  }
 },
 "nbformat": 4,
 "nbformat_minor": 5
}
